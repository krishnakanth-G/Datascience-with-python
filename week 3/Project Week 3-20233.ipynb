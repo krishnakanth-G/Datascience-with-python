{
 "cells": [
  {
   "cell_type": "markdown",
   "metadata": {},
   "source": [
    "# Importing required libraries"
   ]
  },
  {
   "cell_type": "code",
   "execution_count": 2,
   "metadata": {},
   "outputs": [],
   "source": [
    "import pandas as pd\n",
    "from sklearn.datasets import load_breast_cancer\n",
    "from sklearn.model_selection import train_test_split,GridSearchCV\n",
    "from sklearn.tree import DecisionTreeClassifier\n",
    "from sklearn.ensemble import RandomForestClassifier,GradientBoostingClassifier\n",
    "from sklearn.neighbors import KNeighborsClassifier\n",
    "from sklearn.metrics import confusion_matrix, f1_score, recall_score\n",
    "from sklearn.metrics import precision_score,classification_report,accuracy_score\n",
    "from sklearn import metrics"
   ]
  },
  {
   "cell_type": "markdown",
   "metadata": {},
   "source": [
    "# Loading Data"
   ]
  },
  {
   "cell_type": "code",
   "execution_count": 3,
   "metadata": {},
   "outputs": [
    {
     "data": {
      "text/html": [
       "<div>\n",
       "<style scoped>\n",
       "    .dataframe tbody tr th:only-of-type {\n",
       "        vertical-align: middle;\n",
       "    }\n",
       "\n",
       "    .dataframe tbody tr th {\n",
       "        vertical-align: top;\n",
       "    }\n",
       "\n",
       "    .dataframe thead th {\n",
       "        text-align: right;\n",
       "    }\n",
       "</style>\n",
       "<table border=\"1\" class=\"dataframe\">\n",
       "  <thead>\n",
       "    <tr style=\"text-align: right;\">\n",
       "      <th></th>\n",
       "      <th>mean radius</th>\n",
       "      <th>mean texture</th>\n",
       "      <th>mean perimeter</th>\n",
       "      <th>mean area</th>\n",
       "      <th>mean smoothness</th>\n",
       "      <th>mean compactness</th>\n",
       "      <th>mean concavity</th>\n",
       "      <th>mean concave points</th>\n",
       "      <th>mean symmetry</th>\n",
       "      <th>mean fractal dimension</th>\n",
       "      <th>...</th>\n",
       "      <th>worst texture</th>\n",
       "      <th>worst perimeter</th>\n",
       "      <th>worst area</th>\n",
       "      <th>worst smoothness</th>\n",
       "      <th>worst compactness</th>\n",
       "      <th>worst concavity</th>\n",
       "      <th>worst concave points</th>\n",
       "      <th>worst symmetry</th>\n",
       "      <th>worst fractal dimension</th>\n",
       "      <th>y</th>\n",
       "    </tr>\n",
       "  </thead>\n",
       "  <tbody>\n",
       "    <tr>\n",
       "      <th>0</th>\n",
       "      <td>17.99</td>\n",
       "      <td>10.38</td>\n",
       "      <td>122.80</td>\n",
       "      <td>1001.0</td>\n",
       "      <td>0.11840</td>\n",
       "      <td>0.27760</td>\n",
       "      <td>0.3001</td>\n",
       "      <td>0.14710</td>\n",
       "      <td>0.2419</td>\n",
       "      <td>0.07871</td>\n",
       "      <td>...</td>\n",
       "      <td>17.33</td>\n",
       "      <td>184.60</td>\n",
       "      <td>2019.0</td>\n",
       "      <td>0.1622</td>\n",
       "      <td>0.6656</td>\n",
       "      <td>0.7119</td>\n",
       "      <td>0.2654</td>\n",
       "      <td>0.4601</td>\n",
       "      <td>0.11890</td>\n",
       "      <td>0</td>\n",
       "    </tr>\n",
       "    <tr>\n",
       "      <th>1</th>\n",
       "      <td>20.57</td>\n",
       "      <td>17.77</td>\n",
       "      <td>132.90</td>\n",
       "      <td>1326.0</td>\n",
       "      <td>0.08474</td>\n",
       "      <td>0.07864</td>\n",
       "      <td>0.0869</td>\n",
       "      <td>0.07017</td>\n",
       "      <td>0.1812</td>\n",
       "      <td>0.05667</td>\n",
       "      <td>...</td>\n",
       "      <td>23.41</td>\n",
       "      <td>158.80</td>\n",
       "      <td>1956.0</td>\n",
       "      <td>0.1238</td>\n",
       "      <td>0.1866</td>\n",
       "      <td>0.2416</td>\n",
       "      <td>0.1860</td>\n",
       "      <td>0.2750</td>\n",
       "      <td>0.08902</td>\n",
       "      <td>0</td>\n",
       "    </tr>\n",
       "    <tr>\n",
       "      <th>2</th>\n",
       "      <td>19.69</td>\n",
       "      <td>21.25</td>\n",
       "      <td>130.00</td>\n",
       "      <td>1203.0</td>\n",
       "      <td>0.10960</td>\n",
       "      <td>0.15990</td>\n",
       "      <td>0.1974</td>\n",
       "      <td>0.12790</td>\n",
       "      <td>0.2069</td>\n",
       "      <td>0.05999</td>\n",
       "      <td>...</td>\n",
       "      <td>25.53</td>\n",
       "      <td>152.50</td>\n",
       "      <td>1709.0</td>\n",
       "      <td>0.1444</td>\n",
       "      <td>0.4245</td>\n",
       "      <td>0.4504</td>\n",
       "      <td>0.2430</td>\n",
       "      <td>0.3613</td>\n",
       "      <td>0.08758</td>\n",
       "      <td>0</td>\n",
       "    </tr>\n",
       "    <tr>\n",
       "      <th>3</th>\n",
       "      <td>11.42</td>\n",
       "      <td>20.38</td>\n",
       "      <td>77.58</td>\n",
       "      <td>386.1</td>\n",
       "      <td>0.14250</td>\n",
       "      <td>0.28390</td>\n",
       "      <td>0.2414</td>\n",
       "      <td>0.10520</td>\n",
       "      <td>0.2597</td>\n",
       "      <td>0.09744</td>\n",
       "      <td>...</td>\n",
       "      <td>26.50</td>\n",
       "      <td>98.87</td>\n",
       "      <td>567.7</td>\n",
       "      <td>0.2098</td>\n",
       "      <td>0.8663</td>\n",
       "      <td>0.6869</td>\n",
       "      <td>0.2575</td>\n",
       "      <td>0.6638</td>\n",
       "      <td>0.17300</td>\n",
       "      <td>0</td>\n",
       "    </tr>\n",
       "    <tr>\n",
       "      <th>4</th>\n",
       "      <td>20.29</td>\n",
       "      <td>14.34</td>\n",
       "      <td>135.10</td>\n",
       "      <td>1297.0</td>\n",
       "      <td>0.10030</td>\n",
       "      <td>0.13280</td>\n",
       "      <td>0.1980</td>\n",
       "      <td>0.10430</td>\n",
       "      <td>0.1809</td>\n",
       "      <td>0.05883</td>\n",
       "      <td>...</td>\n",
       "      <td>16.67</td>\n",
       "      <td>152.20</td>\n",
       "      <td>1575.0</td>\n",
       "      <td>0.1374</td>\n",
       "      <td>0.2050</td>\n",
       "      <td>0.4000</td>\n",
       "      <td>0.1625</td>\n",
       "      <td>0.2364</td>\n",
       "      <td>0.07678</td>\n",
       "      <td>0</td>\n",
       "    </tr>\n",
       "  </tbody>\n",
       "</table>\n",
       "<p>5 rows × 31 columns</p>\n",
       "</div>"
      ],
      "text/plain": [
       "   mean radius  mean texture  mean perimeter  mean area  mean smoothness  \\\n",
       "0        17.99         10.38          122.80     1001.0          0.11840   \n",
       "1        20.57         17.77          132.90     1326.0          0.08474   \n",
       "2        19.69         21.25          130.00     1203.0          0.10960   \n",
       "3        11.42         20.38           77.58      386.1          0.14250   \n",
       "4        20.29         14.34          135.10     1297.0          0.10030   \n",
       "\n",
       "   mean compactness  mean concavity  mean concave points  mean symmetry  \\\n",
       "0           0.27760          0.3001              0.14710         0.2419   \n",
       "1           0.07864          0.0869              0.07017         0.1812   \n",
       "2           0.15990          0.1974              0.12790         0.2069   \n",
       "3           0.28390          0.2414              0.10520         0.2597   \n",
       "4           0.13280          0.1980              0.10430         0.1809   \n",
       "\n",
       "   mean fractal dimension  ...  worst texture  worst perimeter  worst area  \\\n",
       "0                 0.07871  ...          17.33           184.60      2019.0   \n",
       "1                 0.05667  ...          23.41           158.80      1956.0   \n",
       "2                 0.05999  ...          25.53           152.50      1709.0   \n",
       "3                 0.09744  ...          26.50            98.87       567.7   \n",
       "4                 0.05883  ...          16.67           152.20      1575.0   \n",
       "\n",
       "   worst smoothness  worst compactness  worst concavity  worst concave points  \\\n",
       "0            0.1622             0.6656           0.7119                0.2654   \n",
       "1            0.1238             0.1866           0.2416                0.1860   \n",
       "2            0.1444             0.4245           0.4504                0.2430   \n",
       "3            0.2098             0.8663           0.6869                0.2575   \n",
       "4            0.1374             0.2050           0.4000                0.1625   \n",
       "\n",
       "   worst symmetry  worst fractal dimension  y  \n",
       "0          0.4601                  0.11890  0  \n",
       "1          0.2750                  0.08902  0  \n",
       "2          0.3613                  0.08758  0  \n",
       "3          0.6638                  0.17300  0  \n",
       "4          0.2364                  0.07678  0  \n",
       "\n",
       "[5 rows x 31 columns]"
      ]
     },
     "execution_count": 3,
     "metadata": {},
     "output_type": "execute_result"
    }
   ],
   "source": [
    "df = pd.DataFrame(load_breast_cancer()['data'],columns=load_breast_cancer()['feature_names'])\n",
    "df['y'] = load_breast_cancer()['target']\n",
    "df.head()"
   ]
  },
  {
   "cell_type": "code",
   "execution_count": 4,
   "metadata": {},
   "outputs": [
    {
     "data": {
      "text/plain": [
       "(569, 31)"
      ]
     },
     "execution_count": 4,
     "metadata": {},
     "output_type": "execute_result"
    }
   ],
   "source": [
    "df.shape"
   ]
  },
  {
   "cell_type": "code",
   "execution_count": 48,
   "metadata": {},
   "outputs": [
    {
     "name": "stdout",
     "output_type": "stream",
     "text": [
      "Count of Zero's in label are 212\n",
      "Count of one's in label are 357\n"
     ]
    }
   ],
   "source": [
    "print(\"Count of Zero's in label are\",len(df[df.y==0]))\n",
    "print(\"Count of one's in label are\",len(df[df.y==1]))"
   ]
  },
  {
   "cell_type": "markdown",
   "metadata": {},
   "source": [
    "# Check for missing values"
   ]
  },
  {
   "cell_type": "code",
   "execution_count": 5,
   "metadata": {},
   "outputs": [
    {
     "data": {
      "text/plain": [
       "mean radius                False\n",
       "mean texture               False\n",
       "mean perimeter             False\n",
       "mean area                  False\n",
       "mean smoothness            False\n",
       "mean compactness           False\n",
       "mean concavity             False\n",
       "mean concave points        False\n",
       "mean symmetry              False\n",
       "mean fractal dimension     False\n",
       "radius error               False\n",
       "texture error              False\n",
       "perimeter error            False\n",
       "area error                 False\n",
       "smoothness error           False\n",
       "compactness error          False\n",
       "concavity error            False\n",
       "concave points error       False\n",
       "symmetry error             False\n",
       "fractal dimension error    False\n",
       "worst radius               False\n",
       "worst texture              False\n",
       "worst perimeter            False\n",
       "worst area                 False\n",
       "worst smoothness           False\n",
       "worst compactness          False\n",
       "worst concavity            False\n",
       "worst concave points       False\n",
       "worst symmetry             False\n",
       "worst fractal dimension    False\n",
       "y                          False\n",
       "dtype: bool"
      ]
     },
     "execution_count": 5,
     "metadata": {},
     "output_type": "execute_result"
    }
   ],
   "source": [
    "df.isna().any()"
   ]
  },
  {
   "cell_type": "markdown",
   "metadata": {},
   "source": [
    "# Information about all the variables"
   ]
  },
  {
   "cell_type": "code",
   "execution_count": 6,
   "metadata": {},
   "outputs": [
    {
     "name": "stdout",
     "output_type": "stream",
     "text": [
      "<class 'pandas.core.frame.DataFrame'>\n",
      "RangeIndex: 569 entries, 0 to 568\n",
      "Data columns (total 31 columns):\n",
      " #   Column                   Non-Null Count  Dtype  \n",
      "---  ------                   --------------  -----  \n",
      " 0   mean radius              569 non-null    float64\n",
      " 1   mean texture             569 non-null    float64\n",
      " 2   mean perimeter           569 non-null    float64\n",
      " 3   mean area                569 non-null    float64\n",
      " 4   mean smoothness          569 non-null    float64\n",
      " 5   mean compactness         569 non-null    float64\n",
      " 6   mean concavity           569 non-null    float64\n",
      " 7   mean concave points      569 non-null    float64\n",
      " 8   mean symmetry            569 non-null    float64\n",
      " 9   mean fractal dimension   569 non-null    float64\n",
      " 10  radius error             569 non-null    float64\n",
      " 11  texture error            569 non-null    float64\n",
      " 12  perimeter error          569 non-null    float64\n",
      " 13  area error               569 non-null    float64\n",
      " 14  smoothness error         569 non-null    float64\n",
      " 15  compactness error        569 non-null    float64\n",
      " 16  concavity error          569 non-null    float64\n",
      " 17  concave points error     569 non-null    float64\n",
      " 18  symmetry error           569 non-null    float64\n",
      " 19  fractal dimension error  569 non-null    float64\n",
      " 20  worst radius             569 non-null    float64\n",
      " 21  worst texture            569 non-null    float64\n",
      " 22  worst perimeter          569 non-null    float64\n",
      " 23  worst area               569 non-null    float64\n",
      " 24  worst smoothness         569 non-null    float64\n",
      " 25  worst compactness        569 non-null    float64\n",
      " 26  worst concavity          569 non-null    float64\n",
      " 27  worst concave points     569 non-null    float64\n",
      " 28  worst symmetry           569 non-null    float64\n",
      " 29  worst fractal dimension  569 non-null    float64\n",
      " 30  y                        569 non-null    int32  \n",
      "dtypes: float64(30), int32(1)\n",
      "memory usage: 135.7 KB\n"
     ]
    }
   ],
   "source": [
    "df.info()"
   ]
  },
  {
   "cell_type": "markdown",
   "metadata": {},
   "source": [
    "# Feature Selection"
   ]
  },
  {
   "cell_type": "code",
   "execution_count": 7,
   "metadata": {},
   "outputs": [],
   "source": [
    "X = df.iloc[:, :-1] # Features\n",
    "y = df.iloc[:, -1] # Target variable"
   ]
  },
  {
   "cell_type": "markdown",
   "metadata": {},
   "source": [
    "# Spliting into train and test "
   ]
  },
  {
   "cell_type": "code",
   "execution_count": 8,
   "metadata": {},
   "outputs": [],
   "source": [
    "X_train, X_test, y_train, y_test = train_test_split(X, y, test_size=0.2,random_state = 1)"
   ]
  },
  {
   "cell_type": "markdown",
   "metadata": {},
   "source": [
    "# Decision tree"
   ]
  },
  {
   "cell_type": "code",
   "execution_count": 9,
   "metadata": {},
   "outputs": [
    {
     "data": {
      "text/plain": [
       "DecisionTreeClassifier()"
      ]
     },
     "execution_count": 9,
     "metadata": {},
     "output_type": "execute_result"
    }
   ],
   "source": [
    "d_clf = DecisionTreeClassifier()\n",
    "d_clf.fit(X_train,y_train)"
   ]
  },
  {
   "cell_type": "markdown",
   "metadata": {},
   "source": [
    "#### Model performance"
   ]
  },
  {
   "cell_type": "code",
   "execution_count": 10,
   "metadata": {},
   "outputs": [
    {
     "name": "stdout",
     "output_type": "stream",
     "text": [
      "confustion matrix\n",
      " [[39  3]\n",
      " [ 2 70]]\n",
      "\n",
      "Accuracy score =  0.956140350877193\n",
      "Recall score =  0.9722222222222222\n",
      "Precision score =  0.958904109589041\n",
      "F1 score =  0.9655172413793104\n"
     ]
    }
   ],
   "source": [
    "dy_pred = d_clf.predict(X_test)\n",
    "print(\"confustion matrix\\n\",confusion_matrix(y_test, dy_pred))\n",
    "print(\"\\nAccuracy score = \",accuracy_score(y_test, dy_pred))\n",
    "print(\"Recall score = \",recall_score(y_test, dy_pred))\n",
    "print(\"Precision score = \",precision_score(y_test, dy_pred))\n",
    "print(\"F1 score = \",f1_score(y_test, dy_pred))"
   ]
  },
  {
   "cell_type": "markdown",
   "metadata": {},
   "source": [
    "# Random forest"
   ]
  },
  {
   "cell_type": "code",
   "execution_count": 14,
   "metadata": {},
   "outputs": [
    {
     "data": {
      "text/plain": [
       "RandomForestClassifier()"
      ]
     },
     "execution_count": 14,
     "metadata": {},
     "output_type": "execute_result"
    }
   ],
   "source": [
    "r_clf = RandomForestClassifier()\n",
    "r_clf.fit(X_train,y_train)"
   ]
  },
  {
   "cell_type": "markdown",
   "metadata": {},
   "source": [
    "#### Model performance"
   ]
  },
  {
   "cell_type": "code",
   "execution_count": 15,
   "metadata": {},
   "outputs": [
    {
     "name": "stdout",
     "output_type": "stream",
     "text": [
      "confustion matrix \n",
      " [[37  5]\n",
      " [ 1 71]]\n",
      "\n",
      "Accuracy score =  0.9473684210526315\n",
      "Recall score =  0.9861111111111112\n",
      "Precision score =  0.9342105263157895\n",
      "F1 score =  0.9594594594594595\n"
     ]
    }
   ],
   "source": [
    "ry_pred = r_clf.predict(X_test)\n",
    "print(\"confustion matrix \\n\",confusion_matrix(y_test, ry_pred))\n",
    "print(\"\\nAccuracy score = \",accuracy_score(y_test, ry_pred))\n",
    "print(\"Recall score = \",recall_score(y_test, ry_pred))\n",
    "print(\"Precision score = \",precision_score(y_test, ry_pred))\n",
    "print(\"F1 score = \",f1_score(y_test, ry_pred))"
   ]
  },
  {
   "cell_type": "markdown",
   "metadata": {},
   "source": [
    "# Gradient Boosting"
   ]
  },
  {
   "cell_type": "code",
   "execution_count": 16,
   "metadata": {
    "scrolled": false
   },
   "outputs": [
    {
     "data": {
      "text/plain": [
       "GradientBoostingClassifier()"
      ]
     },
     "execution_count": 16,
     "metadata": {},
     "output_type": "execute_result"
    }
   ],
   "source": [
    "gradient_booster = GradientBoostingClassifier()\n",
    "gradient_booster.fit(X_train,y_train)"
   ]
  },
  {
   "cell_type": "markdown",
   "metadata": {},
   "source": [
    "#### Model performance"
   ]
  },
  {
   "cell_type": "code",
   "execution_count": 17,
   "metadata": {},
   "outputs": [
    {
     "name": "stdout",
     "output_type": "stream",
     "text": [
      "\n",
      " confusion matrix \n",
      " [[38  4]\n",
      " [ 0 72]]\n",
      "\n",
      "Accuracy score =  0.9649122807017544\n",
      "Recall score =  1.0\n",
      "Precision score =  0.9473684210526315\n",
      "F1 score =  0.972972972972973\n"
     ]
    }
   ],
   "source": [
    "gy_pred = gradient_booster.predict(X_test)\n",
    "print(\"\\n confusion matrix \\n\",confusion_matrix(y_test, gy_pred))\n",
    "print(\"\\nAccuracy score = \",accuracy_score(y_test, gy_pred))\n",
    "print(\"Recall score = \",recall_score(y_test, gy_pred))\n",
    "print(\"Precision score = \",precision_score(y_test, gy_pred))\n",
    "print(\"F1 score = \",f1_score(y_test, gy_pred))\n",
    "#print(classification_report(y_test,gradient_booster.predict(X_test)))"
   ]
  },
  {
   "cell_type": "markdown",
   "metadata": {},
   "source": [
    "# K-Nearest Neighbour"
   ]
  },
  {
   "cell_type": "code",
   "execution_count": 18,
   "metadata": {},
   "outputs": [
    {
     "data": {
      "text/plain": [
       "KNeighborsClassifier()"
      ]
     },
     "execution_count": 18,
     "metadata": {},
     "output_type": "execute_result"
    }
   ],
   "source": [
    "knn = KNeighborsClassifier()\n",
    "knn.fit(X_train, y_train)"
   ]
  },
  {
   "cell_type": "markdown",
   "metadata": {},
   "source": [
    "#### Model performance"
   ]
  },
  {
   "cell_type": "code",
   "execution_count": 19,
   "metadata": {},
   "outputs": [
    {
     "name": "stdout",
     "output_type": "stream",
     "text": [
      "confustion matrix \n",
      " [[37  5]\n",
      " [ 2 70]]\n",
      "\n",
      "Accuracy score =  0.9385964912280702\n",
      "Recall score =  0.9722222222222222\n",
      "Precision score =  0.9333333333333333\n",
      "F1 score =  0.9523809523809524\n"
     ]
    }
   ],
   "source": [
    "ky_pred = knn.predict(X_test)\n",
    "print(\"confustion matrix \\n\",confusion_matrix(y_test, ky_pred))\n",
    "print(\"\\nAccuracy score = \",accuracy_score(y_test, ky_pred))\n",
    "print(\"Recall score = \",recall_score(y_test, ky_pred))\n",
    "print(\"Precision score = \",precision_score(y_test, ky_pred))\n",
    "print(\"F1 score = \",f1_score(y_test, ky_pred))"
   ]
  },
  {
   "cell_type": "markdown",
   "metadata": {},
   "source": [
    "# Hyper-parameters of the Decision Tree model"
   ]
  },
  {
   "cell_type": "code",
   "execution_count": 20,
   "metadata": {},
   "outputs": [
    {
     "name": "stdout",
     "output_type": "stream",
     "text": [
      "Fitting 5 folds for each of 24 candidates, totalling 120 fits\n",
      "[CV] criterion=gini, max_depth=10, min_samples_leaf=10 ...............\n",
      "[CV]  criterion=gini, max_depth=10, min_samples_leaf=10, score=0.972, total=   0.0s\n",
      "[CV] criterion=gini, max_depth=10, min_samples_leaf=10 ...............\n",
      "[CV]  criterion=gini, max_depth=10, min_samples_leaf=10, score=0.945, total=   0.0s\n",
      "[CV] criterion=gini, max_depth=10, min_samples_leaf=10 ...............\n",
      "[CV]  criterion=gini, max_depth=10, min_samples_leaf=10, score=0.972, total=   0.0s\n",
      "[CV] criterion=gini, max_depth=10, min_samples_leaf=10 ...............\n",
      "[CV]  criterion=gini, max_depth=10, min_samples_leaf=10, score=0.980, total=   0.0s\n",
      "[CV] criterion=gini, max_depth=10, min_samples_leaf=10 ...............\n",
      "[CV]  criterion=gini, max_depth=10, min_samples_leaf=10, score=0.969, total=   0.0s\n",
      "[CV] criterion=gini, max_depth=10, min_samples_leaf=20 ...............\n",
      "[CV]  criterion=gini, max_depth=10, min_samples_leaf=20, score=0.940, total=   0.0s\n",
      "[CV] criterion=gini, max_depth=10, min_samples_leaf=20 ...............\n",
      "[CV]  criterion=gini, max_depth=10, min_samples_leaf=20, score=0.948, total=   0.0s\n",
      "[CV] criterion=gini, max_depth=10, min_samples_leaf=20 ...............\n",
      "[CV]  criterion=gini, max_depth=10, min_samples_leaf=20, score=0.989, total=   0.0s"
     ]
    },
    {
     "name": "stderr",
     "output_type": "stream",
     "text": [
      "[Parallel(n_jobs=1)]: Using backend SequentialBackend with 1 concurrent workers.\n",
      "[Parallel(n_jobs=1)]: Done   1 out of   1 | elapsed:    0.0s remaining:    0.0s\n",
      "[Parallel(n_jobs=1)]: Done   2 out of   2 | elapsed:    0.0s remaining:    0.0s\n",
      "[Parallel(n_jobs=1)]: Done   3 out of   3 | elapsed:    0.0s remaining:    0.0s\n",
      "[Parallel(n_jobs=1)]: Done   4 out of   4 | elapsed:    0.0s remaining:    0.0s\n"
     ]
    },
    {
     "name": "stdout",
     "output_type": "stream",
     "text": [
      "\n",
      "[CV] criterion=gini, max_depth=10, min_samples_leaf=20 ...............\n",
      "[CV]  criterion=gini, max_depth=10, min_samples_leaf=20, score=0.988, total=   0.0s\n",
      "[CV] criterion=gini, max_depth=10, min_samples_leaf=20 ...............\n",
      "[CV]  criterion=gini, max_depth=10, min_samples_leaf=20, score=0.980, total=   0.0s\n",
      "[CV] criterion=gini, max_depth=10, min_samples_leaf=50 ...............\n",
      "[CV]  criterion=gini, max_depth=10, min_samples_leaf=50, score=0.946, total=   0.0s\n",
      "[CV] criterion=gini, max_depth=10, min_samples_leaf=50 ...............\n",
      "[CV]  criterion=gini, max_depth=10, min_samples_leaf=50, score=0.956, total=   0.0s\n",
      "[CV] criterion=gini, max_depth=10, min_samples_leaf=50 ...............\n",
      "[CV]  criterion=gini, max_depth=10, min_samples_leaf=50, score=0.980, total=   0.0s\n",
      "[CV] criterion=gini, max_depth=10, min_samples_leaf=50 ...............\n",
      "[CV]  criterion=gini, max_depth=10, min_samples_leaf=50, score=0.981, total=   0.0s\n",
      "[CV] criterion=gini, max_depth=10, min_samples_leaf=50 ...............\n",
      "[CV]  criterion=gini, max_depth=10, min_samples_leaf=50, score=0.963, total=   0.0s\n",
      "[CV] criterion=gini, max_depth=20, min_samples_leaf=10 ...............\n",
      "[CV]  criterion=gini, max_depth=20, min_samples_leaf=10, score=0.972, total=   0.0s\n",
      "[CV] criterion=gini, max_depth=20, min_samples_leaf=10 ...............\n",
      "[CV]  criterion=gini, max_depth=20, min_samples_leaf=10, score=0.952, total=   0.0s\n",
      "[CV] criterion=gini, max_depth=20, min_samples_leaf=10 ...............\n",
      "[CV]  criterion=gini, max_depth=20, min_samples_leaf=10, score=0.972, total=   0.0s\n",
      "[CV] criterion=gini, max_depth=20, min_samples_leaf=10 ...............\n",
      "[CV]  criterion=gini, max_depth=20, min_samples_leaf=10, score=0.979, total=   0.0s\n",
      "[CV] criterion=gini, max_depth=20, min_samples_leaf=10 ...............\n",
      "[CV]  criterion=gini, max_depth=20, min_samples_leaf=10, score=0.966, total=   0.0s\n",
      "[CV] criterion=gini, max_depth=20, min_samples_leaf=20 ...............\n",
      "[CV]  criterion=gini, max_depth=20, min_samples_leaf=20, score=0.931, total=   0.0s\n",
      "[CV] criterion=gini, max_depth=20, min_samples_leaf=20 ...............\n",
      "[CV]  criterion=gini, max_depth=20, min_samples_leaf=20, score=0.948, total=   0.0s\n",
      "[CV] criterion=gini, max_depth=20, min_samples_leaf=20 ...............\n",
      "[CV]  criterion=gini, max_depth=20, min_samples_leaf=20, score=0.989, total=   0.0s\n",
      "[CV] criterion=gini, max_depth=20, min_samples_leaf=20 ...............\n",
      "[CV]  criterion=gini, max_depth=20, min_samples_leaf=20, score=0.988, total=   0.0s\n",
      "[CV] criterion=gini, max_depth=20, min_samples_leaf=20 ...............\n",
      "[CV]  criterion=gini, max_depth=20, min_samples_leaf=20, score=0.980, total=   0.0s\n",
      "[CV] criterion=gini, max_depth=20, min_samples_leaf=50 ...............\n",
      "[CV]  criterion=gini, max_depth=20, min_samples_leaf=50, score=0.946, total=   0.0s\n",
      "[CV] criterion=gini, max_depth=20, min_samples_leaf=50 ...............\n",
      "[CV]  criterion=gini, max_depth=20, min_samples_leaf=50, score=0.956, total=   0.0s\n",
      "[CV] criterion=gini, max_depth=20, min_samples_leaf=50 ...............\n",
      "[CV]  criterion=gini, max_depth=20, min_samples_leaf=50, score=0.982, total=   0.0s\n",
      "[CV] criterion=gini, max_depth=20, min_samples_leaf=50 ...............\n",
      "[CV]  criterion=gini, max_depth=20, min_samples_leaf=50, score=0.981, total=   0.0s\n",
      "[CV] criterion=gini, max_depth=20, min_samples_leaf=50 ...............\n",
      "[CV]  criterion=gini, max_depth=20, min_samples_leaf=50, score=0.963, total=   0.0s\n",
      "[CV] criterion=gini, max_depth=50, min_samples_leaf=10 ...............\n",
      "[CV]  criterion=gini, max_depth=50, min_samples_leaf=10, score=0.972, total=   0.0s\n",
      "[CV] criterion=gini, max_depth=50, min_samples_leaf=10 ...............\n",
      "[CV]  criterion=gini, max_depth=50, min_samples_leaf=10, score=0.930, total=   0.0s\n",
      "[CV] criterion=gini, max_depth=50, min_samples_leaf=10 ...............\n",
      "[CV]  criterion=gini, max_depth=50, min_samples_leaf=10, score=0.972, total=   0.0s\n",
      "[CV] criterion=gini, max_depth=50, min_samples_leaf=10 ...............\n",
      "[CV]  criterion=gini, max_depth=50, min_samples_leaf=10, score=0.980, total=   0.0s\n",
      "[CV] criterion=gini, max_depth=50, min_samples_leaf=10 ...............\n",
      "[CV]  criterion=gini, max_depth=50, min_samples_leaf=10, score=0.966, total=   0.0s\n",
      "[CV] criterion=gini, max_depth=50, min_samples_leaf=20 ...............\n",
      "[CV]  criterion=gini, max_depth=50, min_samples_leaf=20, score=0.952, total=   0.0s\n",
      "[CV] criterion=gini, max_depth=50, min_samples_leaf=20 ...............\n",
      "[CV]  criterion=gini, max_depth=50, min_samples_leaf=20, score=0.948, total=   0.0s\n",
      "[CV] criterion=gini, max_depth=50, min_samples_leaf=20 ...............\n",
      "[CV]  criterion=gini, max_depth=50, min_samples_leaf=20, score=0.989, total=   0.0s\n",
      "[CV] criterion=gini, max_depth=50, min_samples_leaf=20 ...............\n",
      "[CV]  criterion=gini, max_depth=50, min_samples_leaf=20, score=0.988, total=   0.0s\n",
      "[CV] criterion=gini, max_depth=50, min_samples_leaf=20 ...............\n",
      "[CV]  criterion=gini, max_depth=50, min_samples_leaf=20, score=0.980, total=   0.0s\n",
      "[CV] criterion=gini, max_depth=50, min_samples_leaf=50 ...............\n",
      "[CV]  criterion=gini, max_depth=50, min_samples_leaf=50, score=0.948, total=   0.0s\n",
      "[CV] criterion=gini, max_depth=50, min_samples_leaf=50 ...............\n",
      "[CV]  criterion=gini, max_depth=50, min_samples_leaf=50, score=0.960, total=   0.0s\n",
      "[CV] criterion=gini, max_depth=50, min_samples_leaf=50 ...............\n",
      "[CV]  criterion=gini, max_depth=50, min_samples_leaf=50, score=0.979, total=   0.0s\n",
      "[CV] criterion=gini, max_depth=50, min_samples_leaf=50 ...............\n",
      "[CV]  criterion=gini, max_depth=50, min_samples_leaf=50, score=0.980, total=   0.0s\n",
      "[CV] criterion=gini, max_depth=50, min_samples_leaf=50 ...............\n",
      "[CV]  criterion=gini, max_depth=50, min_samples_leaf=50, score=0.964, total=   0.0s\n",
      "[CV] criterion=gini, max_depth=100, min_samples_leaf=10 ..............\n",
      "[CV]  criterion=gini, max_depth=100, min_samples_leaf=10, score=0.972, total=   0.0s\n",
      "[CV] criterion=gini, max_depth=100, min_samples_leaf=10 ..............\n",
      "[CV]  criterion=gini, max_depth=100, min_samples_leaf=10, score=0.946, total=   0.0s\n",
      "[CV] criterion=gini, max_depth=100, min_samples_leaf=10 ..............\n",
      "[CV]  criterion=gini, max_depth=100, min_samples_leaf=10, score=0.972, total=   0.0s\n",
      "[CV] criterion=gini, max_depth=100, min_samples_leaf=10 ..............\n",
      "[CV]  criterion=gini, max_depth=100, min_samples_leaf=10, score=0.980, total=   0.0s\n",
      "[CV] criterion=gini, max_depth=100, min_samples_leaf=10 ..............\n",
      "[CV]  criterion=gini, max_depth=100, min_samples_leaf=10, score=0.967, total=   0.0s\n",
      "[CV] criterion=gini, max_depth=100, min_samples_leaf=20 ..............\n",
      "[CV]  criterion=gini, max_depth=100, min_samples_leaf=20, score=0.950, total=   0.0s\n",
      "[CV] criterion=gini, max_depth=100, min_samples_leaf=20 ..............\n",
      "[CV]  criterion=gini, max_depth=100, min_samples_leaf=20, score=0.949, total=   0.0s\n",
      "[CV] criterion=gini, max_depth=100, min_samples_leaf=20 ..............\n",
      "[CV]  criterion=gini, max_depth=100, min_samples_leaf=20, score=0.989, total=   0.0s\n",
      "[CV] criterion=gini, max_depth=100, min_samples_leaf=20 ..............\n",
      "[CV]  criterion=gini, max_depth=100, min_samples_leaf=20, score=0.988, total=   0.0s\n",
      "[CV] criterion=gini, max_depth=100, min_samples_leaf=20 ..............\n",
      "[CV]  criterion=gini, max_depth=100, min_samples_leaf=20, score=0.980, total=   0.0s\n",
      "[CV] criterion=gini, max_depth=100, min_samples_leaf=50 ..............\n",
      "[CV]  criterion=gini, max_depth=100, min_samples_leaf=50, score=0.948, total=   0.0s\n",
      "[CV] criterion=gini, max_depth=100, min_samples_leaf=50 ..............\n",
      "[CV]  criterion=gini, max_depth=100, min_samples_leaf=50, score=0.960, total=   0.0s\n",
      "[CV] criterion=gini, max_depth=100, min_samples_leaf=50 ..............\n",
      "[CV]  criterion=gini, max_depth=100, min_samples_leaf=50, score=0.982, total=   0.0s\n",
      "[CV] criterion=gini, max_depth=100, min_samples_leaf=50 ..............\n",
      "[CV]  criterion=gini, max_depth=100, min_samples_leaf=50, score=0.982, total=   0.0s\n",
      "[CV] criterion=gini, max_depth=100, min_samples_leaf=50 ..............\n",
      "[CV]  criterion=gini, max_depth=100, min_samples_leaf=50, score=0.963, total=   0.0s\n",
      "[CV] criterion=entropy, max_depth=10, min_samples_leaf=10 ............\n",
      "[CV]  criterion=entropy, max_depth=10, min_samples_leaf=10, score=0.933, total=   0.0s\n",
      "[CV] criterion=entropy, max_depth=10, min_samples_leaf=10 ............\n"
     ]
    },
    {
     "name": "stdout",
     "output_type": "stream",
     "text": [
      "[CV]  criterion=entropy, max_depth=10, min_samples_leaf=10, score=0.953, total=   0.0s\n",
      "[CV] criterion=entropy, max_depth=10, min_samples_leaf=10 ............\n",
      "[CV]  criterion=entropy, max_depth=10, min_samples_leaf=10, score=0.980, total=   0.0s\n",
      "[CV] criterion=entropy, max_depth=10, min_samples_leaf=10 ............\n",
      "[CV]  criterion=entropy, max_depth=10, min_samples_leaf=10, score=0.965, total=   0.0s\n",
      "[CV] criterion=entropy, max_depth=10, min_samples_leaf=10 ............\n",
      "[CV]  criterion=entropy, max_depth=10, min_samples_leaf=10, score=0.968, total=   0.0s\n",
      "[CV] criterion=entropy, max_depth=10, min_samples_leaf=20 ............\n",
      "[CV]  criterion=entropy, max_depth=10, min_samples_leaf=20, score=0.931, total=   0.0s\n",
      "[CV] criterion=entropy, max_depth=10, min_samples_leaf=20 ............\n",
      "[CV]  criterion=entropy, max_depth=10, min_samples_leaf=20, score=0.948, total=   0.0s\n",
      "[CV] criterion=entropy, max_depth=10, min_samples_leaf=20 ............\n",
      "[CV]  criterion=entropy, max_depth=10, min_samples_leaf=20, score=0.982, total=   0.0s\n",
      "[CV] criterion=entropy, max_depth=10, min_samples_leaf=20 ............\n",
      "[CV]  criterion=entropy, max_depth=10, min_samples_leaf=20, score=0.971, total=   0.0s\n",
      "[CV] criterion=entropy, max_depth=10, min_samples_leaf=20 ............\n",
      "[CV]  criterion=entropy, max_depth=10, min_samples_leaf=20, score=0.978, total=   0.0s\n",
      "[CV] criterion=entropy, max_depth=10, min_samples_leaf=50 ............\n",
      "[CV]  criterion=entropy, max_depth=10, min_samples_leaf=50, score=0.927, total=   0.0s\n",
      "[CV] criterion=entropy, max_depth=10, min_samples_leaf=50 ............\n",
      "[CV]  criterion=entropy, max_depth=10, min_samples_leaf=50, score=0.959, total=   0.0s\n",
      "[CV] criterion=entropy, max_depth=10, min_samples_leaf=50 ............\n",
      "[CV]  criterion=entropy, max_depth=10, min_samples_leaf=50, score=0.984, total=   0.0s\n",
      "[CV] criterion=entropy, max_depth=10, min_samples_leaf=50 ............\n",
      "[CV]  criterion=entropy, max_depth=10, min_samples_leaf=50, score=0.981, total=   0.0s\n",
      "[CV] criterion=entropy, max_depth=10, min_samples_leaf=50 ............\n",
      "[CV]  criterion=entropy, max_depth=10, min_samples_leaf=50, score=0.972, total=   0.0s\n",
      "[CV] criterion=entropy, max_depth=20, min_samples_leaf=10 ............\n",
      "[CV]  criterion=entropy, max_depth=20, min_samples_leaf=10, score=0.933, total=   0.0s\n",
      "[CV] criterion=entropy, max_depth=20, min_samples_leaf=10 ............\n",
      "[CV]  criterion=entropy, max_depth=20, min_samples_leaf=10, score=0.953, total=   0.0s\n",
      "[CV] criterion=entropy, max_depth=20, min_samples_leaf=10 ............\n",
      "[CV]  criterion=entropy, max_depth=20, min_samples_leaf=10, score=0.996, total=   0.0s\n",
      "[CV] criterion=entropy, max_depth=20, min_samples_leaf=10 ............\n",
      "[CV]  criterion=entropy, max_depth=20, min_samples_leaf=10, score=0.963, total=   0.0s\n",
      "[CV] criterion=entropy, max_depth=20, min_samples_leaf=10 ............\n",
      "[CV]  criterion=entropy, max_depth=20, min_samples_leaf=10, score=0.968, total=   0.0s\n",
      "[CV] criterion=entropy, max_depth=20, min_samples_leaf=20 ............\n",
      "[CV]  criterion=entropy, max_depth=20, min_samples_leaf=20, score=0.931, total=   0.0s\n",
      "[CV] criterion=entropy, max_depth=20, min_samples_leaf=20 ............\n",
      "[CV]  criterion=entropy, max_depth=20, min_samples_leaf=20, score=0.948, total=   0.0s\n",
      "[CV] criterion=entropy, max_depth=20, min_samples_leaf=20 ............\n",
      "[CV]  criterion=entropy, max_depth=20, min_samples_leaf=20, score=0.990, total=   0.0s\n",
      "[CV] criterion=entropy, max_depth=20, min_samples_leaf=20 ............\n",
      "[CV]  criterion=entropy, max_depth=20, min_samples_leaf=20, score=0.973, total=   0.0s\n",
      "[CV] criterion=entropy, max_depth=20, min_samples_leaf=20 ............\n",
      "[CV]  criterion=entropy, max_depth=20, min_samples_leaf=20, score=0.978, total=   0.0s\n",
      "[CV] criterion=entropy, max_depth=20, min_samples_leaf=50 ............\n",
      "[CV]  criterion=entropy, max_depth=20, min_samples_leaf=50, score=0.946, total=   0.0s\n",
      "[CV] criterion=entropy, max_depth=20, min_samples_leaf=50 ............\n",
      "[CV]  criterion=entropy, max_depth=20, min_samples_leaf=50, score=0.959, total=   0.0s\n",
      "[CV] criterion=entropy, max_depth=20, min_samples_leaf=50 ............\n",
      "[CV]  criterion=entropy, max_depth=20, min_samples_leaf=50, score=0.984, total=   0.0s\n",
      "[CV] criterion=entropy, max_depth=20, min_samples_leaf=50 ............\n",
      "[CV]  criterion=entropy, max_depth=20, min_samples_leaf=50, score=0.982, total=   0.0s\n",
      "[CV] criterion=entropy, max_depth=20, min_samples_leaf=50 ............\n",
      "[CV]  criterion=entropy, max_depth=20, min_samples_leaf=50, score=0.972, total=   0.0s\n",
      "[CV] criterion=entropy, max_depth=50, min_samples_leaf=10 ............\n",
      "[CV]  criterion=entropy, max_depth=50, min_samples_leaf=10, score=0.933, total=   0.0s\n",
      "[CV] criterion=entropy, max_depth=50, min_samples_leaf=10 ............\n",
      "[CV]  criterion=entropy, max_depth=50, min_samples_leaf=10, score=0.977, total=   0.0s\n",
      "[CV] criterion=entropy, max_depth=50, min_samples_leaf=10 ............\n",
      "[CV]  criterion=entropy, max_depth=50, min_samples_leaf=10, score=0.996, total=   0.0s\n",
      "[CV] criterion=entropy, max_depth=50, min_samples_leaf=10 ............\n",
      "[CV]  criterion=entropy, max_depth=50, min_samples_leaf=10, score=0.963, total=   0.0s\n",
      "[CV] criterion=entropy, max_depth=50, min_samples_leaf=10 ............\n",
      "[CV]  criterion=entropy, max_depth=50, min_samples_leaf=10, score=0.968, total=   0.0s\n",
      "[CV] criterion=entropy, max_depth=50, min_samples_leaf=20 ............\n",
      "[CV]  criterion=entropy, max_depth=50, min_samples_leaf=20, score=0.931, total=   0.0s\n",
      "[CV] criterion=entropy, max_depth=50, min_samples_leaf=20 ............\n",
      "[CV]  criterion=entropy, max_depth=50, min_samples_leaf=20, score=0.948, total=   0.0s\n",
      "[CV] criterion=entropy, max_depth=50, min_samples_leaf=20 ............\n",
      "[CV]  criterion=entropy, max_depth=50, min_samples_leaf=20, score=0.991, total=   0.0s\n",
      "[CV] criterion=entropy, max_depth=50, min_samples_leaf=20 ............\n",
      "[CV]  criterion=entropy, max_depth=50, min_samples_leaf=20, score=0.972, total=   0.0s\n",
      "[CV] criterion=entropy, max_depth=50, min_samples_leaf=20 ............\n",
      "[CV]  criterion=entropy, max_depth=50, min_samples_leaf=20, score=0.978, total=   0.0s\n",
      "[CV] criterion=entropy, max_depth=50, min_samples_leaf=50 ............\n",
      "[CV]  criterion=entropy, max_depth=50, min_samples_leaf=50, score=0.926, total=   0.0s\n",
      "[CV] criterion=entropy, max_depth=50, min_samples_leaf=50 ............\n",
      "[CV]  criterion=entropy, max_depth=50, min_samples_leaf=50, score=0.950, total=   0.0s\n",
      "[CV] criterion=entropy, max_depth=50, min_samples_leaf=50 ............\n",
      "[CV]  criterion=entropy, max_depth=50, min_samples_leaf=50, score=0.984, total=   0.0s\n",
      "[CV] criterion=entropy, max_depth=50, min_samples_leaf=50 ............\n",
      "[CV]  criterion=entropy, max_depth=50, min_samples_leaf=50, score=0.981, total=   0.0s\n",
      "[CV] criterion=entropy, max_depth=50, min_samples_leaf=50 ............\n",
      "[CV]  criterion=entropy, max_depth=50, min_samples_leaf=50, score=0.988, total=   0.0s\n",
      "[CV] criterion=entropy, max_depth=100, min_samples_leaf=10 ...........\n",
      "[CV]  criterion=entropy, max_depth=100, min_samples_leaf=10, score=0.933, total=   0.0s\n",
      "[CV] criterion=entropy, max_depth=100, min_samples_leaf=10 ...........\n",
      "[CV]  criterion=entropy, max_depth=100, min_samples_leaf=10, score=0.964, total=   0.0s\n",
      "[CV] criterion=entropy, max_depth=100, min_samples_leaf=10 ...........\n",
      "[CV]  criterion=entropy, max_depth=100, min_samples_leaf=10, score=0.980, total=   0.0s\n",
      "[CV] criterion=entropy, max_depth=100, min_samples_leaf=10 ...........\n",
      "[CV]  criterion=entropy, max_depth=100, min_samples_leaf=10, score=0.964, total=   0.0s\n",
      "[CV] criterion=entropy, max_depth=100, min_samples_leaf=10 ...........\n",
      "[CV]  criterion=entropy, max_depth=100, min_samples_leaf=10, score=0.968, total=   0.0s\n",
      "[CV] criterion=entropy, max_depth=100, min_samples_leaf=20 ...........\n",
      "[CV]  criterion=entropy, max_depth=100, min_samples_leaf=20, score=0.931, total=   0.0s\n",
      "[CV] criterion=entropy, max_depth=100, min_samples_leaf=20 ...........\n",
      "[CV]  criterion=entropy, max_depth=100, min_samples_leaf=20, score=0.948, total=   0.0s\n",
      "[CV] criterion=entropy, max_depth=100, min_samples_leaf=20 ...........\n",
      "[CV]  criterion=entropy, max_depth=100, min_samples_leaf=20, score=0.976, total=   0.0s\n",
      "[CV] criterion=entropy, max_depth=100, min_samples_leaf=20 ...........\n",
      "[CV]  criterion=entropy, max_depth=100, min_samples_leaf=20, score=0.986, total=   0.0s\n",
      "[CV] criterion=entropy, max_depth=100, min_samples_leaf=20 ...........\n",
      "[CV]  criterion=entropy, max_depth=100, min_samples_leaf=20, score=0.978, total=   0.0s\n",
      "[CV] criterion=entropy, max_depth=100, min_samples_leaf=50 ...........\n",
      "[CV]  criterion=entropy, max_depth=100, min_samples_leaf=50, score=0.948, total=   0.0s\n",
      "[CV] criterion=entropy, max_depth=100, min_samples_leaf=50 ...........\n",
      "[CV]  criterion=entropy, max_depth=100, min_samples_leaf=50, score=0.956, total=   0.0s\n",
      "[CV] criterion=entropy, max_depth=100, min_samples_leaf=50 ...........\n"
     ]
    },
    {
     "name": "stdout",
     "output_type": "stream",
     "text": [
      "[CV]  criterion=entropy, max_depth=100, min_samples_leaf=50, score=0.984, total=   0.0s\n",
      "[CV] criterion=entropy, max_depth=100, min_samples_leaf=50 ...........\n",
      "[CV]  criterion=entropy, max_depth=100, min_samples_leaf=50, score=0.976, total=   0.0s\n",
      "[CV] criterion=entropy, max_depth=100, min_samples_leaf=50 ...........\n",
      "[CV]  criterion=entropy, max_depth=100, min_samples_leaf=50, score=0.972, total=   0.0s\n"
     ]
    },
    {
     "name": "stderr",
     "output_type": "stream",
     "text": [
      "[Parallel(n_jobs=1)]: Done 120 out of 120 | elapsed:    2.0s finished\n"
     ]
    },
    {
     "data": {
      "text/plain": [
       "GridSearchCV(estimator=DecisionTreeClassifier(),\n",
       "             param_grid={'criterion': ['gini', 'entropy'],\n",
       "                         'max_depth': [10, 20, 50, 100],\n",
       "                         'min_samples_leaf': [10, 20, 50]},\n",
       "             scoring='roc_auc', verbose=5)"
      ]
     },
     "execution_count": 20,
     "metadata": {},
     "output_type": "execute_result"
    }
   ],
   "source": [
    "clf = DecisionTreeClassifier()\n",
    "tuned_parameters = {\"criterion\": [\"gini\", \"entropy\"], \"max_depth\": [10, 20, 50, 100],\"min_samples_leaf\":[10, 20, 50]}\n",
    "cv_grid = GridSearchCV(clf, param_grid = tuned_parameters, scoring = 'roc_auc', verbose = 5)\n",
    "cv_grid.fit(X_train, y_train)"
   ]
  },
  {
   "cell_type": "markdown",
   "metadata": {},
   "source": [
    "#### Model performance"
   ]
  },
  {
   "cell_type": "code",
   "execution_count": 21,
   "metadata": {},
   "outputs": [
    {
     "name": "stdout",
     "output_type": "stream",
     "text": [
      "confustion matrix \n",
      " [[29 13]\n",
      " [ 3 69]]\n",
      "\n",
      "Accuracy score =  0.8596491228070176\n",
      "Recall score =  0.9583333333333334\n",
      "Precision score =  0.8414634146341463\n",
      "F1 score =  0.8961038961038961\n"
     ]
    }
   ],
   "source": [
    "y_pred = cv_grid.predict(X_test)\n",
    "print(\"confustion matrix \\n\",confusion_matrix(y_test, y_pred))\n",
    "print(\"\\nAccuracy score = \",accuracy_score(y_test, y_pred))\n",
    "print(\"Recall score = \",recall_score(y_test, y_pred))\n",
    "print(\"Precision score = \",precision_score(y_test, y_pred))\n",
    "print(\"F1 score = \",f1_score(y_test, y_pred))"
   ]
  },
  {
   "cell_type": "markdown",
   "metadata": {},
   "source": [
    "# Comparing the results of various models"
   ]
  },
  {
   "cell_type": "code",
   "execution_count": 22,
   "metadata": {},
   "outputs": [
    {
     "data": {
      "text/html": [
       "<div>\n",
       "<style scoped>\n",
       "    .dataframe tbody tr th:only-of-type {\n",
       "        vertical-align: middle;\n",
       "    }\n",
       "\n",
       "    .dataframe tbody tr th {\n",
       "        vertical-align: top;\n",
       "    }\n",
       "\n",
       "    .dataframe thead th {\n",
       "        text-align: right;\n",
       "    }\n",
       "</style>\n",
       "<table border=\"1\" class=\"dataframe\">\n",
       "  <thead>\n",
       "    <tr style=\"text-align: right;\">\n",
       "      <th></th>\n",
       "      <th>Decision Tree</th>\n",
       "      <th>Random Forest</th>\n",
       "      <th>Gradient Boosting</th>\n",
       "      <th>KNN</th>\n",
       "      <th>Decision Tree(tuned)</th>\n",
       "    </tr>\n",
       "  </thead>\n",
       "  <tbody>\n",
       "    <tr>\n",
       "      <th>Accuracy</th>\n",
       "      <td>0.956140</td>\n",
       "      <td>0.947368</td>\n",
       "      <td>0.964912</td>\n",
       "      <td>0.938596</td>\n",
       "      <td>0.859649</td>\n",
       "    </tr>\n",
       "    <tr>\n",
       "      <th>Precision</th>\n",
       "      <td>0.972222</td>\n",
       "      <td>0.986111</td>\n",
       "      <td>1.000000</td>\n",
       "      <td>0.972222</td>\n",
       "      <td>0.958333</td>\n",
       "    </tr>\n",
       "    <tr>\n",
       "      <th>Recall</th>\n",
       "      <td>0.958904</td>\n",
       "      <td>0.934211</td>\n",
       "      <td>0.947368</td>\n",
       "      <td>0.933333</td>\n",
       "      <td>0.841463</td>\n",
       "    </tr>\n",
       "    <tr>\n",
       "      <th>F1 Score</th>\n",
       "      <td>0.965517</td>\n",
       "      <td>0.959459</td>\n",
       "      <td>0.972973</td>\n",
       "      <td>0.952381</td>\n",
       "      <td>0.896104</td>\n",
       "    </tr>\n",
       "  </tbody>\n",
       "</table>\n",
       "</div>"
      ],
      "text/plain": [
       "           Decision Tree  Random Forest  Gradient Boosting       KNN  \\\n",
       "Accuracy        0.956140       0.947368           0.964912  0.938596   \n",
       "Precision       0.972222       0.986111           1.000000  0.972222   \n",
       "Recall          0.958904       0.934211           0.947368  0.933333   \n",
       "F1 Score        0.965517       0.959459           0.972973  0.952381   \n",
       "\n",
       "           Decision Tree(tuned)  \n",
       "Accuracy               0.859649  \n",
       "Precision              0.958333  \n",
       "Recall                 0.841463  \n",
       "F1 Score               0.896104  "
      ]
     },
     "execution_count": 22,
     "metadata": {},
     "output_type": "execute_result"
    }
   ],
   "source": [
    "models_scores_table = pd.DataFrame({  'Decision Tree':[ accuracy_score(y_test, dy_pred),\n",
    "                                                        recall_score(y_test, dy_pred),\n",
    "                                                        precision_score(y_test, dy_pred),\n",
    "                                                        f1_score(y_test, dy_pred)],\n",
    "                                       \n",
    "                                      'Random Forest':[ accuracy_score(y_test,ry_pred),\n",
    "                                                        recall_score(y_test, ry_pred),\n",
    "                                                        precision_score(y_test, ry_pred),\n",
    "                                                        f1_score(y_test, ry_pred)],\n",
    "                                       \n",
    "                                      'Gradient Boosting':[ accuracy_score(y_test, gy_pred),\n",
    "                                                        recall_score(y_test, gy_pred),\n",
    "                                                        precision_score(y_test, gy_pred),\n",
    "                                                        f1_score(y_test, gy_pred)],\n",
    "                                      'KNN':[ accuracy_score(y_test,ky_pred),\n",
    "                                                        recall_score(y_test, ky_pred),\n",
    "                                                        precision_score(y_test, ky_pred),\n",
    "                                                        f1_score(y_test, ky_pred)],\n",
    "                                      'Decision Tree(tuned)':[ accuracy_score(y_test,y_pred),\n",
    "                                                        recall_score(y_test, y_pred),\n",
    "                                                        precision_score(y_test, y_pred),\n",
    "                                                        f1_score(y_test, y_pred)]},                                      \n",
    "                                   index=['Accuracy', 'Precision', 'Recall', 'F1 Score'])\n",
    "models_scores_table.head()"
   ]
  },
  {
   "cell_type": "markdown",
   "metadata": {},
   "source": [
    "From the above data frame, we can observe the 'Accuracy', 'Precision', 'Recall', and 'F1 Score'  of different classification models. Almost all classification models are giving good results but Gradient boosting is outperformed."
   ]
  }
 ],
 "metadata": {
  "kernelspec": {
   "display_name": "Python 3",
   "language": "python",
   "name": "python3"
  },
  "language_info": {
   "codemirror_mode": {
    "name": "ipython",
    "version": 3
   },
   "file_extension": ".py",
   "mimetype": "text/x-python",
   "name": "python",
   "nbconvert_exporter": "python",
   "pygments_lexer": "ipython3",
   "version": "3.8.3"
  }
 },
 "nbformat": 4,
 "nbformat_minor": 4
}
