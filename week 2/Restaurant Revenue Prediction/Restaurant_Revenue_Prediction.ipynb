{
 "cells": [
  {
   "cell_type": "markdown",
   "metadata": {},
   "source": [
    "   <h1 align=\"center\"> <i>Restaurant Revenue Prediction</i> </h1>"
   ]
  },
  {
   "cell_type": "markdown",
   "metadata": {},
   "source": [
    "## Import required Libraries"
   ]
  },
  {
   "cell_type": "code",
   "execution_count": 1,
   "metadata": {},
   "outputs": [],
   "source": [
    "import numpy as np\n",
    "import pandas as pd\n",
    "import pydot\n",
    "import math\n",
    "from sklearn.linear_model import LinearRegression\n",
    "from sklearn.preprocessing import PolynomialFeatures\n",
    "from sklearn.tree import DecisionTreeRegressor\n",
    "from sklearn.ensemble import RandomForestRegressor\n",
    "from sklearn.tree import export_graphviz\n",
    "from sklearn.model_selection import train_test_split\n",
    "from sklearn.metrics import mean_squared_error\n",
    "from pandas.api.types import CategoricalDtype"
   ]
  },
  {
   "cell_type": "markdown",
   "metadata": {},
   "source": [
    "## Import train and test data"
   ]
  },
  {
   "cell_type": "code",
   "execution_count": 2,
   "metadata": {},
   "outputs": [
    {
     "data": {
      "text/html": [
       "<div>\n",
       "<style scoped>\n",
       "    .dataframe tbody tr th:only-of-type {\n",
       "        vertical-align: middle;\n",
       "    }\n",
       "\n",
       "    .dataframe tbody tr th {\n",
       "        vertical-align: top;\n",
       "    }\n",
       "\n",
       "    .dataframe thead th {\n",
       "        text-align: right;\n",
       "    }\n",
       "</style>\n",
       "<table border=\"1\" class=\"dataframe\">\n",
       "  <thead>\n",
       "    <tr style=\"text-align: right;\">\n",
       "      <th></th>\n",
       "      <th>Id</th>\n",
       "      <th>Open Date</th>\n",
       "      <th>City</th>\n",
       "      <th>City Group</th>\n",
       "      <th>Type</th>\n",
       "      <th>P1</th>\n",
       "      <th>P2</th>\n",
       "      <th>P3</th>\n",
       "      <th>P4</th>\n",
       "      <th>P5</th>\n",
       "      <th>...</th>\n",
       "      <th>P29</th>\n",
       "      <th>P30</th>\n",
       "      <th>P31</th>\n",
       "      <th>P32</th>\n",
       "      <th>P33</th>\n",
       "      <th>P34</th>\n",
       "      <th>P35</th>\n",
       "      <th>P36</th>\n",
       "      <th>P37</th>\n",
       "      <th>revenue</th>\n",
       "    </tr>\n",
       "  </thead>\n",
       "  <tbody>\n",
       "    <tr>\n",
       "      <th>0</th>\n",
       "      <td>0</td>\n",
       "      <td>07/17/1999</td>\n",
       "      <td>İstanbul</td>\n",
       "      <td>Big Cities</td>\n",
       "      <td>IL</td>\n",
       "      <td>4</td>\n",
       "      <td>5.0</td>\n",
       "      <td>4.0</td>\n",
       "      <td>4.0</td>\n",
       "      <td>2</td>\n",
       "      <td>...</td>\n",
       "      <td>3.0</td>\n",
       "      <td>5</td>\n",
       "      <td>3</td>\n",
       "      <td>4</td>\n",
       "      <td>5</td>\n",
       "      <td>5</td>\n",
       "      <td>4</td>\n",
       "      <td>3</td>\n",
       "      <td>4</td>\n",
       "      <td>5653753.0</td>\n",
       "    </tr>\n",
       "    <tr>\n",
       "      <th>1</th>\n",
       "      <td>1</td>\n",
       "      <td>02/14/2008</td>\n",
       "      <td>Ankara</td>\n",
       "      <td>Big Cities</td>\n",
       "      <td>FC</td>\n",
       "      <td>4</td>\n",
       "      <td>5.0</td>\n",
       "      <td>4.0</td>\n",
       "      <td>4.0</td>\n",
       "      <td>1</td>\n",
       "      <td>...</td>\n",
       "      <td>3.0</td>\n",
       "      <td>0</td>\n",
       "      <td>0</td>\n",
       "      <td>0</td>\n",
       "      <td>0</td>\n",
       "      <td>0</td>\n",
       "      <td>0</td>\n",
       "      <td>0</td>\n",
       "      <td>0</td>\n",
       "      <td>6923131.0</td>\n",
       "    </tr>\n",
       "    <tr>\n",
       "      <th>2</th>\n",
       "      <td>2</td>\n",
       "      <td>03/09/2013</td>\n",
       "      <td>Diyarbakır</td>\n",
       "      <td>Other</td>\n",
       "      <td>IL</td>\n",
       "      <td>2</td>\n",
       "      <td>4.0</td>\n",
       "      <td>2.0</td>\n",
       "      <td>5.0</td>\n",
       "      <td>2</td>\n",
       "      <td>...</td>\n",
       "      <td>3.0</td>\n",
       "      <td>0</td>\n",
       "      <td>0</td>\n",
       "      <td>0</td>\n",
       "      <td>0</td>\n",
       "      <td>0</td>\n",
       "      <td>0</td>\n",
       "      <td>0</td>\n",
       "      <td>0</td>\n",
       "      <td>2055379.0</td>\n",
       "    </tr>\n",
       "    <tr>\n",
       "      <th>3</th>\n",
       "      <td>3</td>\n",
       "      <td>02/02/2012</td>\n",
       "      <td>Tokat</td>\n",
       "      <td>Other</td>\n",
       "      <td>IL</td>\n",
       "      <td>6</td>\n",
       "      <td>4.5</td>\n",
       "      <td>6.0</td>\n",
       "      <td>6.0</td>\n",
       "      <td>4</td>\n",
       "      <td>...</td>\n",
       "      <td>7.5</td>\n",
       "      <td>25</td>\n",
       "      <td>12</td>\n",
       "      <td>10</td>\n",
       "      <td>6</td>\n",
       "      <td>18</td>\n",
       "      <td>12</td>\n",
       "      <td>12</td>\n",
       "      <td>6</td>\n",
       "      <td>2675511.0</td>\n",
       "    </tr>\n",
       "    <tr>\n",
       "      <th>4</th>\n",
       "      <td>4</td>\n",
       "      <td>05/09/2009</td>\n",
       "      <td>Gaziantep</td>\n",
       "      <td>Other</td>\n",
       "      <td>IL</td>\n",
       "      <td>3</td>\n",
       "      <td>4.0</td>\n",
       "      <td>3.0</td>\n",
       "      <td>4.0</td>\n",
       "      <td>2</td>\n",
       "      <td>...</td>\n",
       "      <td>3.0</td>\n",
       "      <td>5</td>\n",
       "      <td>1</td>\n",
       "      <td>3</td>\n",
       "      <td>2</td>\n",
       "      <td>3</td>\n",
       "      <td>4</td>\n",
       "      <td>3</td>\n",
       "      <td>3</td>\n",
       "      <td>4316715.0</td>\n",
       "    </tr>\n",
       "  </tbody>\n",
       "</table>\n",
       "<p>5 rows × 43 columns</p>\n",
       "</div>"
      ],
      "text/plain": [
       "   Id   Open Date        City  City Group Type  P1   P2   P3   P4  P5  ...  \\\n",
       "0   0  07/17/1999    İstanbul  Big Cities   IL   4  5.0  4.0  4.0   2  ...   \n",
       "1   1  02/14/2008      Ankara  Big Cities   FC   4  5.0  4.0  4.0   1  ...   \n",
       "2   2  03/09/2013  Diyarbakır       Other   IL   2  4.0  2.0  5.0   2  ...   \n",
       "3   3  02/02/2012       Tokat       Other   IL   6  4.5  6.0  6.0   4  ...   \n",
       "4   4  05/09/2009   Gaziantep       Other   IL   3  4.0  3.0  4.0   2  ...   \n",
       "\n",
       "   P29  P30  P31  P32  P33  P34  P35  P36  P37    revenue  \n",
       "0  3.0    5    3    4    5    5    4    3    4  5653753.0  \n",
       "1  3.0    0    0    0    0    0    0    0    0  6923131.0  \n",
       "2  3.0    0    0    0    0    0    0    0    0  2055379.0  \n",
       "3  7.5   25   12   10    6   18   12   12    6  2675511.0  \n",
       "4  3.0    5    1    3    2    3    4    3    3  4316715.0  \n",
       "\n",
       "[5 rows x 43 columns]"
      ]
     },
     "execution_count": 2,
     "metadata": {},
     "output_type": "execute_result"
    }
   ],
   "source": [
    "train = pd.read_csv('train.csv')\n",
    "test = pd.read_csv('test.csv')\n",
    "train.head()"
   ]
  },
  {
   "cell_type": "code",
   "execution_count": 3,
   "metadata": {},
   "outputs": [
    {
     "data": {
      "text/html": [
       "<div>\n",
       "<style scoped>\n",
       "    .dataframe tbody tr th:only-of-type {\n",
       "        vertical-align: middle;\n",
       "    }\n",
       "\n",
       "    .dataframe tbody tr th {\n",
       "        vertical-align: top;\n",
       "    }\n",
       "\n",
       "    .dataframe thead th {\n",
       "        text-align: right;\n",
       "    }\n",
       "</style>\n",
       "<table border=\"1\" class=\"dataframe\">\n",
       "  <thead>\n",
       "    <tr style=\"text-align: right;\">\n",
       "      <th></th>\n",
       "      <th>Id</th>\n",
       "      <th>Open Date</th>\n",
       "      <th>City</th>\n",
       "      <th>City Group</th>\n",
       "      <th>Type</th>\n",
       "      <th>P1</th>\n",
       "      <th>P2</th>\n",
       "      <th>P3</th>\n",
       "      <th>P4</th>\n",
       "      <th>P5</th>\n",
       "      <th>...</th>\n",
       "      <th>P28</th>\n",
       "      <th>P29</th>\n",
       "      <th>P30</th>\n",
       "      <th>P31</th>\n",
       "      <th>P32</th>\n",
       "      <th>P33</th>\n",
       "      <th>P34</th>\n",
       "      <th>P35</th>\n",
       "      <th>P36</th>\n",
       "      <th>P37</th>\n",
       "    </tr>\n",
       "  </thead>\n",
       "  <tbody>\n",
       "    <tr>\n",
       "      <th>0</th>\n",
       "      <td>0</td>\n",
       "      <td>01/22/2011</td>\n",
       "      <td>Niğde</td>\n",
       "      <td>Other</td>\n",
       "      <td>FC</td>\n",
       "      <td>1</td>\n",
       "      <td>4.0</td>\n",
       "      <td>4.0</td>\n",
       "      <td>4.0</td>\n",
       "      <td>1</td>\n",
       "      <td>...</td>\n",
       "      <td>2.0</td>\n",
       "      <td>3.0</td>\n",
       "      <td>0</td>\n",
       "      <td>0</td>\n",
       "      <td>0</td>\n",
       "      <td>0</td>\n",
       "      <td>0</td>\n",
       "      <td>0</td>\n",
       "      <td>0</td>\n",
       "      <td>0</td>\n",
       "    </tr>\n",
       "    <tr>\n",
       "      <th>1</th>\n",
       "      <td>1</td>\n",
       "      <td>03/18/2011</td>\n",
       "      <td>Konya</td>\n",
       "      <td>Other</td>\n",
       "      <td>IL</td>\n",
       "      <td>3</td>\n",
       "      <td>4.0</td>\n",
       "      <td>4.0</td>\n",
       "      <td>4.0</td>\n",
       "      <td>2</td>\n",
       "      <td>...</td>\n",
       "      <td>1.0</td>\n",
       "      <td>3.0</td>\n",
       "      <td>0</td>\n",
       "      <td>0</td>\n",
       "      <td>0</td>\n",
       "      <td>0</td>\n",
       "      <td>0</td>\n",
       "      <td>0</td>\n",
       "      <td>0</td>\n",
       "      <td>0</td>\n",
       "    </tr>\n",
       "    <tr>\n",
       "      <th>2</th>\n",
       "      <td>2</td>\n",
       "      <td>10/30/2013</td>\n",
       "      <td>Ankara</td>\n",
       "      <td>Big Cities</td>\n",
       "      <td>FC</td>\n",
       "      <td>3</td>\n",
       "      <td>4.0</td>\n",
       "      <td>4.0</td>\n",
       "      <td>4.0</td>\n",
       "      <td>2</td>\n",
       "      <td>...</td>\n",
       "      <td>2.0</td>\n",
       "      <td>3.0</td>\n",
       "      <td>0</td>\n",
       "      <td>0</td>\n",
       "      <td>0</td>\n",
       "      <td>0</td>\n",
       "      <td>0</td>\n",
       "      <td>0</td>\n",
       "      <td>0</td>\n",
       "      <td>0</td>\n",
       "    </tr>\n",
       "    <tr>\n",
       "      <th>3</th>\n",
       "      <td>3</td>\n",
       "      <td>05/06/2013</td>\n",
       "      <td>Kocaeli</td>\n",
       "      <td>Other</td>\n",
       "      <td>IL</td>\n",
       "      <td>2</td>\n",
       "      <td>4.0</td>\n",
       "      <td>4.0</td>\n",
       "      <td>4.0</td>\n",
       "      <td>2</td>\n",
       "      <td>...</td>\n",
       "      <td>2.0</td>\n",
       "      <td>3.0</td>\n",
       "      <td>0</td>\n",
       "      <td>4</td>\n",
       "      <td>0</td>\n",
       "      <td>0</td>\n",
       "      <td>0</td>\n",
       "      <td>0</td>\n",
       "      <td>0</td>\n",
       "      <td>0</td>\n",
       "    </tr>\n",
       "    <tr>\n",
       "      <th>4</th>\n",
       "      <td>4</td>\n",
       "      <td>07/31/2013</td>\n",
       "      <td>Afyonkarahisar</td>\n",
       "      <td>Other</td>\n",
       "      <td>FC</td>\n",
       "      <td>2</td>\n",
       "      <td>4.0</td>\n",
       "      <td>4.0</td>\n",
       "      <td>4.0</td>\n",
       "      <td>1</td>\n",
       "      <td>...</td>\n",
       "      <td>5.0</td>\n",
       "      <td>3.0</td>\n",
       "      <td>0</td>\n",
       "      <td>0</td>\n",
       "      <td>0</td>\n",
       "      <td>0</td>\n",
       "      <td>0</td>\n",
       "      <td>0</td>\n",
       "      <td>0</td>\n",
       "      <td>0</td>\n",
       "    </tr>\n",
       "  </tbody>\n",
       "</table>\n",
       "<p>5 rows × 42 columns</p>\n",
       "</div>"
      ],
      "text/plain": [
       "   Id   Open Date            City  City Group Type  P1   P2   P3   P4  P5  \\\n",
       "0   0  01/22/2011           Niğde       Other   FC   1  4.0  4.0  4.0   1   \n",
       "1   1  03/18/2011           Konya       Other   IL   3  4.0  4.0  4.0   2   \n",
       "2   2  10/30/2013          Ankara  Big Cities   FC   3  4.0  4.0  4.0   2   \n",
       "3   3  05/06/2013         Kocaeli       Other   IL   2  4.0  4.0  4.0   2   \n",
       "4   4  07/31/2013  Afyonkarahisar       Other   FC   2  4.0  4.0  4.0   1   \n",
       "\n",
       "   ...  P28  P29  P30  P31  P32  P33  P34  P35  P36  P37  \n",
       "0  ...  2.0  3.0    0    0    0    0    0    0    0    0  \n",
       "1  ...  1.0  3.0    0    0    0    0    0    0    0    0  \n",
       "2  ...  2.0  3.0    0    0    0    0    0    0    0    0  \n",
       "3  ...  2.0  3.0    0    4    0    0    0    0    0    0  \n",
       "4  ...  5.0  3.0    0    0    0    0    0    0    0    0  \n",
       "\n",
       "[5 rows x 42 columns]"
      ]
     },
     "execution_count": 3,
     "metadata": {},
     "output_type": "execute_result"
    }
   ],
   "source": [
    "test.head()"
   ]
  },
  {
   "cell_type": "markdown",
   "metadata": {},
   "source": [
    "## Check dimension and info of data sets"
   ]
  },
  {
   "cell_type": "code",
   "execution_count": 4,
   "metadata": {},
   "outputs": [
    {
     "name": "stdout",
     "output_type": "stream",
     "text": [
      "(137, 43)\n",
      "(100000, 42)\n"
     ]
    }
   ],
   "source": [
    "print(train.shape)\n",
    "print(test.shape)"
   ]
  },
  {
   "cell_type": "code",
   "execution_count": 5,
   "metadata": {
    "scrolled": true
   },
   "outputs": [
    {
     "name": "stdout",
     "output_type": "stream",
     "text": [
      "<class 'pandas.core.frame.DataFrame'>\n",
      "RangeIndex: 137 entries, 0 to 136\n",
      "Data columns (total 43 columns):\n",
      " #   Column      Non-Null Count  Dtype  \n",
      "---  ------      --------------  -----  \n",
      " 0   Id          137 non-null    int64  \n",
      " 1   Open Date   137 non-null    object \n",
      " 2   City        137 non-null    object \n",
      " 3   City Group  137 non-null    object \n",
      " 4   Type        137 non-null    object \n",
      " 5   P1          137 non-null    int64  \n",
      " 6   P2          137 non-null    float64\n",
      " 7   P3          137 non-null    float64\n",
      " 8   P4          137 non-null    float64\n",
      " 9   P5          137 non-null    int64  \n",
      " 10  P6          137 non-null    int64  \n",
      " 11  P7          137 non-null    int64  \n",
      " 12  P8          137 non-null    int64  \n",
      " 13  P9          137 non-null    int64  \n",
      " 14  P10         137 non-null    int64  \n",
      " 15  P11         137 non-null    int64  \n",
      " 16  P12         137 non-null    int64  \n",
      " 17  P13         137 non-null    float64\n",
      " 18  P14         137 non-null    int64  \n",
      " 19  P15         137 non-null    int64  \n",
      " 20  P16         137 non-null    int64  \n",
      " 21  P17         137 non-null    int64  \n",
      " 22  P18         137 non-null    int64  \n",
      " 23  P19         137 non-null    int64  \n",
      " 24  P20         137 non-null    int64  \n",
      " 25  P21         137 non-null    int64  \n",
      " 26  P22         137 non-null    int64  \n",
      " 27  P23         137 non-null    int64  \n",
      " 28  P24         137 non-null    int64  \n",
      " 29  P25         137 non-null    int64  \n",
      " 30  P26         137 non-null    float64\n",
      " 31  P27         137 non-null    float64\n",
      " 32  P28         137 non-null    float64\n",
      " 33  P29         137 non-null    float64\n",
      " 34  P30         137 non-null    int64  \n",
      " 35  P31         137 non-null    int64  \n",
      " 36  P32         137 non-null    int64  \n",
      " 37  P33         137 non-null    int64  \n",
      " 38  P34         137 non-null    int64  \n",
      " 39  P35         137 non-null    int64  \n",
      " 40  P36         137 non-null    int64  \n",
      " 41  P37         137 non-null    int64  \n",
      " 42  revenue     137 non-null    float64\n",
      "dtypes: float64(9), int64(30), object(4)\n",
      "memory usage: 46.1+ KB\n"
     ]
    }
   ],
   "source": [
    "train.info()"
   ]
  },
  {
   "cell_type": "code",
   "execution_count": 6,
   "metadata": {},
   "outputs": [
    {
     "name": "stdout",
     "output_type": "stream",
     "text": [
      "<class 'pandas.core.frame.DataFrame'>\n",
      "RangeIndex: 100000 entries, 0 to 99999\n",
      "Data columns (total 42 columns):\n",
      " #   Column      Non-Null Count   Dtype  \n",
      "---  ------      --------------   -----  \n",
      " 0   Id          100000 non-null  int64  \n",
      " 1   Open Date   100000 non-null  object \n",
      " 2   City        100000 non-null  object \n",
      " 3   City Group  100000 non-null  object \n",
      " 4   Type        100000 non-null  object \n",
      " 5   P1          100000 non-null  int64  \n",
      " 6   P2          100000 non-null  float64\n",
      " 7   P3          100000 non-null  float64\n",
      " 8   P4          100000 non-null  float64\n",
      " 9   P5          100000 non-null  int64  \n",
      " 10  P6          100000 non-null  int64  \n",
      " 11  P7          100000 non-null  int64  \n",
      " 12  P8          100000 non-null  int64  \n",
      " 13  P9          100000 non-null  int64  \n",
      " 14  P10         100000 non-null  int64  \n",
      " 15  P11         100000 non-null  int64  \n",
      " 16  P12         100000 non-null  int64  \n",
      " 17  P13         100000 non-null  float64\n",
      " 18  P14         100000 non-null  int64  \n",
      " 19  P15         100000 non-null  int64  \n",
      " 20  P16         100000 non-null  int64  \n",
      " 21  P17         100000 non-null  int64  \n",
      " 22  P18         100000 non-null  int64  \n",
      " 23  P19         100000 non-null  int64  \n",
      " 24  P20         100000 non-null  int64  \n",
      " 25  P21         100000 non-null  int64  \n",
      " 26  P22         100000 non-null  int64  \n",
      " 27  P23         100000 non-null  int64  \n",
      " 28  P24         100000 non-null  int64  \n",
      " 29  P25         100000 non-null  int64  \n",
      " 30  P26         100000 non-null  float64\n",
      " 31  P27         100000 non-null  float64\n",
      " 32  P28         100000 non-null  float64\n",
      " 33  P29         100000 non-null  float64\n",
      " 34  P30         100000 non-null  int64  \n",
      " 35  P31         100000 non-null  int64  \n",
      " 36  P32         100000 non-null  int64  \n",
      " 37  P33         100000 non-null  int64  \n",
      " 38  P34         100000 non-null  int64  \n",
      " 39  P35         100000 non-null  int64  \n",
      " 40  P36         100000 non-null  int64  \n",
      " 41  P37         100000 non-null  int64  \n",
      "dtypes: float64(8), int64(30), object(4)\n",
      "memory usage: 32.0+ MB\n"
     ]
    }
   ],
   "source": [
    "test.info()"
   ]
  },
  {
   "cell_type": "markdown",
   "metadata": {},
   "source": [
    "There are no null values in the datasets and there are three categorical variables"
   ]
  },
  {
   "cell_type": "markdown",
   "metadata": {},
   "source": [
    "## Data preprocessing"
   ]
  },
  {
   "cell_type": "markdown",
   "metadata": {},
   "source": [
    "#### Encoding categorical variables"
   ]
  },
  {
   "cell_type": "markdown",
   "metadata": {},
   "source": [
    "City variable Encoding"
   ]
  },
  {
   "cell_type": "code",
   "execution_count": 7,
   "metadata": {},
   "outputs": [
    {
     "name": "stdout",
     "output_type": "stream",
     "text": [
      "{'Aksaray', 'Elazığ', 'Isparta', 'Zonguldak', 'Gaziantep', 'Mersin', 'Malatya', 'Balıkesir', 'Osmaniye', 'Bilecik', 'Sakarya', 'Kırıkkale', 'Erzincan', 'Bursa', 'Manisa', 'Tokat', 'Tanımsız', 'Batman', 'Ankara', 'Samsun', 'Tekirdağ', 'Ordu', 'Erzurum', 'Çanakkale', 'Trabzon', 'Antalya', 'Düzce', 'Çorum', 'Rize', 'Eskişehir', 'Kastamonu', 'Kayseri', 'Karabük', 'Sivas', 'Şanlıurfa', 'Mardin', 'İzmir', 'Kars', 'Kırşehir', 'Aydın', 'Bolu', 'Çankırı', 'Kocaeli', 'Kırklareli', 'Hatay', 'Muğla', 'Diyarbakır', 'Uşak', 'İstanbul', 'Niğde', 'Nevşehir', 'Adana', 'Kütahya', 'Konya', 'Denizli', 'Yalova', 'Artvin', 'Edirne', 'Kahramanmaraş', 'Giresun', 'Siirt', 'Amasya', 'Afyonkarahisar'}\n"
     ]
    }
   ],
   "source": [
    "train_city = train[\"City\"].unique()\n",
    "test_city = test[\"City\"].unique()\n",
    "all_city = set(train_city).union(test_city)\n",
    "print(all_city)"
   ]
  },
  {
   "cell_type": "code",
   "execution_count": 8,
   "metadata": {},
   "outputs": [],
   "source": [
    "city_dummies=pd.get_dummies(train['City'].astype(CategoricalDtype(all_city)))\n",
    "train = pd.concat([train,city_dummies],axis=1)\n",
    "\n",
    "city_dummies=pd.get_dummies(test['City'].astype(CategoricalDtype(all_city)))\n",
    "test = pd.concat([test,city_dummies],axis=1)"
   ]
  },
  {
   "cell_type": "markdown",
   "metadata": {},
   "source": [
    "City Group variable Encoding"
   ]
  },
  {
   "cell_type": "code",
   "execution_count": 9,
   "metadata": {},
   "outputs": [],
   "source": [
    "city_group_dummies=pd.get_dummies(train['City Group'])\n",
    "train = pd.concat([train,city_group_dummies],axis=1)\n",
    "\n",
    "city_group_dummies=pd.get_dummies(test['City Group'])\n",
    "test = pd.concat([test,city_group_dummies],axis=1)"
   ]
  },
  {
   "cell_type": "markdown",
   "metadata": {},
   "source": [
    "Type variable Encoding"
   ]
  },
  {
   "cell_type": "code",
   "execution_count": 10,
   "metadata": {},
   "outputs": [],
   "source": [
    "type_dummies=pd.get_dummies(train['Type'].astype(CategoricalDtype([\"FC\",\"IL\",\"DT\",\"MB\"])))\n",
    "train = pd.concat([train,type_dummies],axis=1)\n",
    "\n",
    "type_dummies=pd.get_dummies(test['Type'])\n",
    "test = pd.concat([test,type_dummies],axis=1)"
   ]
  },
  {
   "cell_type": "markdown",
   "metadata": {},
   "source": [
    "#### Coverting date to year"
   ]
  },
  {
   "cell_type": "code",
   "execution_count": 11,
   "metadata": {},
   "outputs": [],
   "source": [
    "train['year'] = pd.DatetimeIndex(train['Open Date']).year\n",
    "test['year'] = pd.DatetimeIndex(test['Open Date']).year"
   ]
  },
  {
   "cell_type": "markdown",
   "metadata": {},
   "source": [
    "#### Droping unnecessary variables"
   ]
  },
  {
   "cell_type": "code",
   "execution_count": 12,
   "metadata": {},
   "outputs": [],
   "source": [
    "train.drop(['Id','Open Date','City','City Group','Type'],axis=1,inplace=True)\n",
    "test.drop(['Id','Open Date','City','City Group','Type'],axis=1,inplace=True)"
   ]
  },
  {
   "cell_type": "markdown",
   "metadata": {},
   "source": [
    "#### Check dimension of train and test"
   ]
  },
  {
   "cell_type": "code",
   "execution_count": 13,
   "metadata": {},
   "outputs": [
    {
     "name": "stdout",
     "output_type": "stream",
     "text": [
      "(137, 108)\n",
      "(100000, 107)\n"
     ]
    }
   ],
   "source": [
    "print(train.shape)\n",
    "print(test.shape)"
   ]
  },
  {
   "cell_type": "markdown",
   "metadata": {},
   "source": [
    "## Feature Selection"
   ]
  },
  {
   "cell_type": "code",
   "execution_count": 14,
   "metadata": {},
   "outputs": [],
   "source": [
    "X = train.drop(\"revenue\",axis=1)\n",
    "y = train[\"revenue\"]"
   ]
  },
  {
   "cell_type": "markdown",
   "metadata": {},
   "source": [
    "## Spliting Train into train and test"
   ]
  },
  {
   "cell_type": "code",
   "execution_count": 15,
   "metadata": {},
   "outputs": [],
   "source": [
    "X_train, X_test, y_train, y_test = train_test_split(X, y, test_size=0.2,random_state = 1)"
   ]
  },
  {
   "cell_type": "markdown",
   "metadata": {},
   "source": [
    "## Regression models"
   ]
  },
  {
   "cell_type": "markdown",
   "metadata": {},
   "source": [
    "### Simple linear regression model"
   ]
  },
  {
   "cell_type": "code",
   "execution_count": 16,
   "metadata": {},
   "outputs": [],
   "source": [
    "simple_reg = LinearRegression().fit(X_train.iloc[:,0:1], y_train)"
   ]
  },
  {
   "cell_type": "code",
   "execution_count": 17,
   "metadata": {},
   "outputs": [],
   "source": [
    "sy_predicted = simple_reg.predict(X_test.iloc[:,0:1])\n"
   ]
  },
  {
   "cell_type": "markdown",
   "metadata": {},
   "source": [
    "### Multiple linear regression model"
   ]
  },
  {
   "cell_type": "code",
   "execution_count": 18,
   "metadata": {},
   "outputs": [],
   "source": [
    "multi_reg = LinearRegression().fit(X_train, y_train)"
   ]
  },
  {
   "cell_type": "code",
   "execution_count": 19,
   "metadata": {},
   "outputs": [],
   "source": [
    "my_predicted = multi_reg.predict(X_test)"
   ]
  },
  {
   "cell_type": "markdown",
   "metadata": {},
   "source": [
    "### Polynomial Regression Model"
   ]
  },
  {
   "cell_type": "code",
   "execution_count": 20,
   "metadata": {},
   "outputs": [],
   "source": [
    "poly = PolynomialFeatures()\n",
    "X_poly = poly.fit_transform(X_train)\n",
    "poly_reg = LinearRegression().fit(X_poly, y_train)"
   ]
  },
  {
   "cell_type": "code",
   "execution_count": 21,
   "metadata": {},
   "outputs": [],
   "source": [
    "py_predicted = poly_reg.predict(poly.fit_transform(X_test))"
   ]
  },
  {
   "cell_type": "markdown",
   "metadata": {},
   "source": [
    "### DecisionTree Regressor"
   ]
  },
  {
   "cell_type": "code",
   "execution_count": 22,
   "metadata": {},
   "outputs": [
    {
     "data": {
      "text/plain": [
       "DecisionTreeRegressor()"
      ]
     },
     "execution_count": 22,
     "metadata": {},
     "output_type": "execute_result"
    }
   ],
   "source": [
    "dt_reg = DecisionTreeRegressor()\n",
    "dt_reg.fit(X_train, y_train)"
   ]
  },
  {
   "cell_type": "code",
   "execution_count": 23,
   "metadata": {},
   "outputs": [],
   "source": [
    "dy_predicted = dt_reg.predict(X_test)"
   ]
  },
  {
   "cell_type": "markdown",
   "metadata": {},
   "source": [
    "### Random Forest"
   ]
  },
  {
   "cell_type": "code",
   "execution_count": 24,
   "metadata": {},
   "outputs": [
    {
     "data": {
      "text/plain": [
       "RandomForestRegressor()"
      ]
     },
     "execution_count": 24,
     "metadata": {},
     "output_type": "execute_result"
    }
   ],
   "source": [
    "rf_reg = RandomForestRegressor()\n",
    "rf_reg.fit(X_train, y_train)"
   ]
  },
  {
   "cell_type": "code",
   "execution_count": 25,
   "metadata": {},
   "outputs": [],
   "source": [
    "ry_predicted = rf_reg.predict(X_test)"
   ]
  },
  {
   "cell_type": "markdown",
   "metadata": {},
   "source": [
    "## RMSE of Five models"
   ]
  },
  {
   "cell_type": "code",
   "execution_count": 26,
   "metadata": {},
   "outputs": [
    {
     "data": {
      "text/html": [
       "<div>\n",
       "<style scoped>\n",
       "    .dataframe tbody tr th:only-of-type {\n",
       "        vertical-align: middle;\n",
       "    }\n",
       "\n",
       "    .dataframe tbody tr th {\n",
       "        vertical-align: top;\n",
       "    }\n",
       "\n",
       "    .dataframe thead th {\n",
       "        text-align: right;\n",
       "    }\n",
       "</style>\n",
       "<table border=\"1\" class=\"dataframe\">\n",
       "  <thead>\n",
       "    <tr style=\"text-align: right;\">\n",
       "      <th></th>\n",
       "      <th>RMSE</th>\n",
       "    </tr>\n",
       "  </thead>\n",
       "  <tbody>\n",
       "    <tr>\n",
       "      <th>Simple Linear regression</th>\n",
       "      <td>3.448971e+06</td>\n",
       "    </tr>\n",
       "    <tr>\n",
       "      <th>Multiple Linear regression</th>\n",
       "      <td>3.871366e+06</td>\n",
       "    </tr>\n",
       "    <tr>\n",
       "      <th>Polynomial regression</th>\n",
       "      <td>7.407362e+06</td>\n",
       "    </tr>\n",
       "    <tr>\n",
       "      <th>Decision Tree</th>\n",
       "      <td>4.420511e+06</td>\n",
       "    </tr>\n",
       "    <tr>\n",
       "      <th>Random forest</th>\n",
       "      <td>3.692638e+06</td>\n",
       "    </tr>\n",
       "  </tbody>\n",
       "</table>\n",
       "</div>"
      ],
      "text/plain": [
       "                                    RMSE\n",
       "Simple Linear regression    3.448971e+06\n",
       "Multiple Linear regression  3.871366e+06\n",
       "Polynomial regression       7.407362e+06\n",
       "Decision Tree               4.420511e+06\n",
       "Random forest               3.692638e+06"
      ]
     },
     "execution_count": 26,
     "metadata": {},
     "output_type": "execute_result"
    }
   ],
   "source": [
    "rmse = pd.DataFrame({'RMSE':[math.sqrt(mean_squared_error(sy_predicted,y_test)),\n",
    "                             math.sqrt(mean_squared_error(my_predicted,y_test)),\n",
    "                             math.sqrt(mean_squared_error(py_predicted,y_test)),\n",
    "                             math.sqrt(mean_squared_error(dy_predicted,y_test)),\n",
    "                             math.sqrt(mean_squared_error(ry_predicted,y_test))]},                                      \n",
    "                     index=[\"Simple Linear regression\",\"Multiple Linear regression\",\n",
    "                            \"Polynomial regression\",\"Decision Tree\",\n",
    "                            \"Random forest\"])\n",
    "rmse.head()"
   ]
  },
  {
   "cell_type": "markdown",
   "metadata": {},
   "source": [
    "## Specific to Random Forest"
   ]
  },
  {
   "cell_type": "markdown",
   "metadata": {},
   "source": [
    "### Saving Tree Picture"
   ]
  },
  {
   "cell_type": "code",
   "execution_count": 27,
   "metadata": {},
   "outputs": [],
   "source": [
    "tree = rf_reg.estimators_[5]\n",
    "export_graphviz(tree, out_file = 'tree.dot', feature_names = X_train.columns, rounded = True, precision = 1)\n",
    "(graph, ) = pydot.graph_from_dot_file('tree.dot')"
   ]
  },
  {
   "cell_type": "code",
   "execution_count": 28,
   "metadata": {},
   "outputs": [],
   "source": [
    "graph.write_png('tree.png')"
   ]
  },
  {
   "cell_type": "markdown",
   "metadata": {},
   "source": [
    "### Best estimators"
   ]
  },
  {
   "cell_type": "code",
   "execution_count": 29,
   "metadata": {},
   "outputs": [
    {
     "name": "stdout",
     "output_type": "stream",
     "text": [
      "Variable: P29                  Importance: 0.27\n",
      "Variable: year                 Importance: 0.07\n",
      "Variable: P17                  Importance: 0.06\n",
      "Variable: İzmir                Importance: 0.05\n",
      "Variable: P2                   Importance: 0.04\n",
      "Variable: P20                  Importance: 0.04\n",
      "Variable: P23                  Importance: 0.04\n",
      "Variable: P28                  Importance: 0.04\n",
      "Variable: İstanbul             Importance: 0.04\n",
      "Variable: P1                   Importance: 0.03\n",
      "Variable: P22                  Importance: 0.03\n",
      "Variable: P3                   Importance: 0.02\n",
      "Variable: P6                   Importance: 0.02\n",
      "Variable: P11                  Importance: 0.02\n",
      "Variable: P19                  Importance: 0.02\n",
      "Variable: P4                   Importance: 0.01\n",
      "Variable: P5                   Importance: 0.01\n",
      "Variable: P8                   Importance: 0.01\n",
      "Variable: P9                   Importance: 0.01\n",
      "Variable: P10                  Importance: 0.01\n",
      "Variable: P12                  Importance: 0.01\n",
      "Variable: P13                  Importance: 0.01\n",
      "Variable: P14                  Importance: 0.01\n",
      "Variable: P15                  Importance: 0.01\n",
      "Variable: P21                  Importance: 0.01\n",
      "Variable: P25                  Importance: 0.01\n",
      "Variable: P26                  Importance: 0.01\n",
      "Variable: P27                  Importance: 0.01\n",
      "Variable: P30                  Importance: 0.01\n",
      "Variable: P32                  Importance: 0.01\n",
      "Variable: P33                  Importance: 0.01\n",
      "Variable: P34                  Importance: 0.01\n",
      "Variable: P36                  Importance: 0.01\n",
      "Variable: P37                  Importance: 0.01\n",
      "Variable: Ankara               Importance: 0.01\n",
      "Variable: Big Cities           Importance: 0.01\n",
      "Variable: P7                   Importance: 0.0\n",
      "Variable: P16                  Importance: 0.0\n",
      "Variable: P18                  Importance: 0.0\n",
      "Variable: P24                  Importance: 0.0\n",
      "Variable: P31                  Importance: 0.0\n",
      "Variable: P35                  Importance: 0.0\n",
      "Variable: Aksaray              Importance: 0.0\n",
      "Variable: Elazığ               Importance: 0.0\n",
      "Variable: Isparta              Importance: 0.0\n",
      "Variable: Zonguldak            Importance: 0.0\n",
      "Variable: Gaziantep            Importance: 0.0\n",
      "Variable: Mersin               Importance: 0.0\n",
      "Variable: Malatya              Importance: 0.0\n",
      "Variable: Balıkesir            Importance: 0.0\n",
      "Variable: Osmaniye             Importance: 0.0\n",
      "Variable: Bilecik              Importance: 0.0\n",
      "Variable: Sakarya              Importance: 0.0\n",
      "Variable: Kırıkkale            Importance: 0.0\n",
      "Variable: Erzincan             Importance: 0.0\n",
      "Variable: Bursa                Importance: 0.0\n",
      "Variable: Manisa               Importance: 0.0\n",
      "Variable: Tokat                Importance: 0.0\n",
      "Variable: Tanımsız             Importance: 0.0\n",
      "Variable: Batman               Importance: 0.0\n",
      "Variable: Samsun               Importance: 0.0\n",
      "Variable: Tekirdağ             Importance: 0.0\n",
      "Variable: Ordu                 Importance: 0.0\n",
      "Variable: Erzurum              Importance: 0.0\n",
      "Variable: Çanakkale            Importance: 0.0\n",
      "Variable: Trabzon              Importance: 0.0\n",
      "Variable: Antalya              Importance: 0.0\n",
      "Variable: Düzce                Importance: 0.0\n",
      "Variable: Çorum                Importance: 0.0\n",
      "Variable: Rize                 Importance: 0.0\n",
      "Variable: Eskişehir            Importance: 0.0\n",
      "Variable: Kastamonu            Importance: 0.0\n",
      "Variable: Kayseri              Importance: 0.0\n",
      "Variable: Karabük              Importance: 0.0\n",
      "Variable: Sivas                Importance: 0.0\n",
      "Variable: Şanlıurfa            Importance: 0.0\n",
      "Variable: Mardin               Importance: 0.0\n",
      "Variable: Kars                 Importance: 0.0\n",
      "Variable: Kırşehir             Importance: 0.0\n",
      "Variable: Aydın                Importance: 0.0\n",
      "Variable: Bolu                 Importance: 0.0\n",
      "Variable: Çankırı              Importance: 0.0\n",
      "Variable: Kocaeli              Importance: 0.0\n",
      "Variable: Kırklareli           Importance: 0.0\n",
      "Variable: Hatay                Importance: 0.0\n",
      "Variable: Muğla                Importance: 0.0\n",
      "Variable: Diyarbakır           Importance: 0.0\n",
      "Variable: Uşak                 Importance: 0.0\n",
      "Variable: Niğde                Importance: 0.0\n",
      "Variable: Nevşehir             Importance: 0.0\n",
      "Variable: Adana                Importance: 0.0\n",
      "Variable: Kütahya              Importance: 0.0\n",
      "Variable: Konya                Importance: 0.0\n",
      "Variable: Denizli              Importance: 0.0\n",
      "Variable: Yalova               Importance: 0.0\n",
      "Variable: Artvin               Importance: 0.0\n",
      "Variable: Edirne               Importance: 0.0\n",
      "Variable: Kahramanmaraş        Importance: 0.0\n",
      "Variable: Giresun              Importance: 0.0\n",
      "Variable: Siirt                Importance: 0.0\n",
      "Variable: Amasya               Importance: 0.0\n",
      "Variable: Afyonkarahisar       Importance: 0.0\n",
      "Variable: Other                Importance: 0.0\n",
      "Variable: FC                   Importance: 0.0\n",
      "Variable: IL                   Importance: 0.0\n",
      "Variable: DT                   Importance: 0.0\n",
      "Variable: MB                   Importance: 0.0\n"
     ]
    }
   ],
   "source": [
    "importances = list(rf_reg.feature_importances_)\n",
    "feature_importances = [(feature, round(importance, 2)) for feature, importance in zip(X_train.columns, importances)]\n",
    "\n",
    "feature_importances = sorted(feature_importances, key = lambda x: x[1], reverse = True)\n",
    "[print('Variable: {:20} Importance: {}'.format(*pair)) for pair in feature_importances];"
   ]
  },
  {
   "cell_type": "markdown",
   "metadata": {},
   "source": [
    "### Random Forest with best estimators"
   ]
  },
  {
   "cell_type": "code",
   "execution_count": 30,
   "metadata": {},
   "outputs": [
    {
     "data": {
      "text/plain": [
       "RandomForestRegressor()"
      ]
     },
     "execution_count": 30,
     "metadata": {},
     "output_type": "execute_result"
    }
   ],
   "source": [
    "rf_most_important = RandomForestRegressor()\n",
    "\n",
    "train_important = X_train[[\"P29\"]]\n",
    "test_important = X_test[[\"P29\"]]\n",
    "\n",
    "rf_most_important.fit(train_important, y_train)"
   ]
  },
  {
   "cell_type": "code",
   "execution_count": 31,
   "metadata": {},
   "outputs": [],
   "source": [
    "rf_predicted = rf_most_important.predict(test_important)"
   ]
  },
  {
   "cell_type": "markdown",
   "metadata": {},
   "source": [
    "### Comparing Random forest and Random forest with best estimators"
   ]
  },
  {
   "cell_type": "code",
   "execution_count": 32,
   "metadata": {},
   "outputs": [
    {
     "data": {
      "text/html": [
       "<div>\n",
       "<style scoped>\n",
       "    .dataframe tbody tr th:only-of-type {\n",
       "        vertical-align: middle;\n",
       "    }\n",
       "\n",
       "    .dataframe tbody tr th {\n",
       "        vertical-align: top;\n",
       "    }\n",
       "\n",
       "    .dataframe thead th {\n",
       "        text-align: right;\n",
       "    }\n",
       "</style>\n",
       "<table border=\"1\" class=\"dataframe\">\n",
       "  <thead>\n",
       "    <tr style=\"text-align: right;\">\n",
       "      <th></th>\n",
       "      <th>RMSE</th>\n",
       "    </tr>\n",
       "  </thead>\n",
       "  <tbody>\n",
       "    <tr>\n",
       "      <th>Random forest</th>\n",
       "      <td>3.692638e+06</td>\n",
       "    </tr>\n",
       "    <tr>\n",
       "      <th>Random forest with best estimators</th>\n",
       "      <td>3.892087e+06</td>\n",
       "    </tr>\n",
       "  </tbody>\n",
       "</table>\n",
       "</div>"
      ],
      "text/plain": [
       "                                            RMSE\n",
       "Random forest                       3.692638e+06\n",
       "Random forest with best estimators  3.892087e+06"
      ]
     },
     "execution_count": 32,
     "metadata": {},
     "output_type": "execute_result"
    }
   ],
   "source": [
    "rmse = pd.DataFrame({'RMSE':[math.sqrt(mean_squared_error(ry_predicted,y_test)),\n",
    "                             math.sqrt(mean_squared_error(rf_predicted,y_test))]},                                      \n",
    "                     index=[\"Random forest\",\"Random forest with best estimators\"])\n",
    "rmse.head()"
   ]
  }
 ],
 "metadata": {
  "kernelspec": {
   "display_name": "Python 3",
   "language": "python",
   "name": "python3"
  },
  "language_info": {
   "codemirror_mode": {
    "name": "ipython",
    "version": 3
   },
   "file_extension": ".py",
   "mimetype": "text/x-python",
   "name": "python",
   "nbconvert_exporter": "python",
   "pygments_lexer": "ipython3",
   "version": "3.8.3"
  }
 },
 "nbformat": 4,
 "nbformat_minor": 4
}
